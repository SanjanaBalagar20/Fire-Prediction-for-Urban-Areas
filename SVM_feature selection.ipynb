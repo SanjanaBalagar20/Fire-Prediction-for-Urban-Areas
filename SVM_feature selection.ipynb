{
 "cells": [
  {
   "cell_type": "code",
   "execution_count": 2,
   "id": "ff7efb42",
   "metadata": {
    "colab": {
     "base_uri": "https://localhost:8080/"
    },
    "executionInfo": {
     "elapsed": 4228,
     "status": "ok",
     "timestamp": 1681154280113,
     "user": {
      "displayName": "Meishan Fan",
      "userId": "14900579168546048834"
     },
     "user_tz": 420
    },
    "id": "ff7efb42",
    "outputId": "ed0d09a3-5f02-4b8d-8b13-b84c0f177873"
   },
   "outputs": [],
   "source": [
    "from imblearn.over_sampling import SMOTE\n",
    "from collections import Counter\n",
    "\n",
    "import numpy as np\n",
    "import pandas as pd\n",
    "\n",
    "import math\n",
    "\n",
    "from datetime import datetime\n",
    "\n",
    "from sklearn.preprocessing import StandardScaler, Normalizer\n",
    "from sklearn.preprocessing import MinMaxScaler\n",
    "\n",
    "from sklearn.model_selection import train_test_split\n",
    "from sklearn.preprocessing import LabelEncoder, LabelBinarizer\n",
    "\n",
    "from sklearn.svm import SVC\n",
    "\n",
    "from sklearn.metrics import accuracy_score, precision_recall_fscore_support, f1_score, log_loss, recall_score\n",
    "from sklearn.metrics import confusion_matrix, ConfusionMatrixDisplay, classification_report\n",
    "from sklearn.metrics import roc_curve, auc, roc_auc_score, RocCurveDisplay\n",
    "\n",
    "from sklearn.model_selection import RepeatedStratifiedKFold\n",
    "from sklearn.model_selection import GridSearchCV\n",
    "\n",
    "from itertools import cycle\n",
    "\n",
    "# import statsmodels.api as sm\n",
    "\n",
    "import matplotlib.pyplot as plt\n",
    "import seaborn as sns\n",
    "\n",
    "import re\n",
    "\n",
    "from functools import reduce\n",
    "\n",
    "# from google.colab import drive  \n",
    "# drive.mount('/content/drive')"
   ]
  },
  {
   "cell_type": "code",
   "execution_count": 3,
   "id": "DB3IhEQZdAFi",
   "metadata": {
    "colab": {
     "base_uri": "https://localhost:8080/"
    },
    "executionInfo": {
     "elapsed": 14,
     "status": "ok",
     "timestamp": 1681154280115,
     "user": {
      "displayName": "Meishan Fan",
      "userId": "14900579168546048834"
     },
     "user_tz": 420
    },
    "id": "DB3IhEQZdAFi",
    "outputId": "7d94f61c-ee96-4206-a30a-d6a361d16483"
   },
   "outputs": [],
   "source": [
    "# directory_298b = \"\"\"/content/drive/MyDrive/SJSU/DATA 298/Data_298/Data_298b/Data/\"\"\"\n",
    "\n",
    "# # directory_meishan = \"\"\"/content/drive/MyDrive/SJSU/DATA 298/Data_298/meishan's notes/data/ndvi/\"\"\"\n",
    "\n",
    "\n",
    "# !ls \"\"\"/content/drive/MyDrive/SJSU/DATA 298/Data_298/Data_298b/Data/\"\"\""
   ]
  },
  {
   "cell_type": "code",
   "execution_count": 4,
   "id": "a5795c2d",
   "metadata": {
    "colab": {
     "base_uri": "https://localhost:8080/",
     "height": 267
    },
    "executionInfo": {
     "elapsed": 426,
     "status": "ok",
     "timestamp": 1681154401489,
     "user": {
      "displayName": "Meishan Fan",
      "userId": "14900579168546048834"
     },
     "user_tz": 420
    },
    "id": "a5795c2d",
    "outputId": "bb49b727-f1b5-48c6-99dd-d83a1aed0be2"
   },
   "outputs": [
    {
     "data": {
      "text/html": [
       "<div>\n",
       "<style scoped>\n",
       "    .dataframe tbody tr th:only-of-type {\n",
       "        vertical-align: middle;\n",
       "    }\n",
       "\n",
       "    .dataframe tbody tr th {\n",
       "        vertical-align: top;\n",
       "    }\n",
       "\n",
       "    .dataframe thead th {\n",
       "        text-align: right;\n",
       "    }\n",
       "</style>\n",
       "<table border=\"1\" class=\"dataframe\">\n",
       "  <thead>\n",
       "    <tr style=\"text-align: right;\">\n",
       "      <th></th>\n",
       "      <th>INCIDENT_NO</th>\n",
       "      <th>LONGITUDE</th>\n",
       "      <th>LATITUDE</th>\n",
       "      <th>DAY</th>\n",
       "      <th>MONTH</th>\n",
       "      <th>YEAR</th>\n",
       "      <th>DATE</th>\n",
       "      <th>ZONING_CATEGORIES</th>\n",
       "      <th>HOUSES WITHIN 100 METER</th>\n",
       "      <th>HOUSES WITHIN 200 METER</th>\n",
       "      <th>NDVI_VALUE</th>\n",
       "      <th>TMAX</th>\n",
       "      <th>TMIN</th>\n",
       "      <th>WDF5</th>\n",
       "      <th>WSF2</th>\n",
       "      <th>WSF5</th>\n",
       "      <th>NEW_NDVI_VALUE</th>\n",
       "      <th>NEW_NEW_NDVI_VALUE</th>\n",
       "      <th>ZONING</th>\n",
       "      <th>FIRE_ALARM</th>\n",
       "    </tr>\n",
       "  </thead>\n",
       "  <tbody>\n",
       "    <tr>\n",
       "      <th>0</th>\n",
       "      <td>F212819105</td>\n",
       "      <td>-121.848353</td>\n",
       "      <td>37.335873</td>\n",
       "      <td>8</td>\n",
       "      <td>10</td>\n",
       "      <td>2021</td>\n",
       "      <td>10/8/2021</td>\n",
       "      <td>Road</td>\n",
       "      <td>0</td>\n",
       "      <td>28</td>\n",
       "      <td>106</td>\n",
       "      <td>68.0</td>\n",
       "      <td>53.0</td>\n",
       "      <td>320.0</td>\n",
       "      <td>19.9</td>\n",
       "      <td>25.1</td>\n",
       "      <td>136</td>\n",
       "      <td>227</td>\n",
       "      <td>4</td>\n",
       "      <td>1</td>\n",
       "    </tr>\n",
       "    <tr>\n",
       "      <th>1</th>\n",
       "      <td>F190319157</td>\n",
       "      <td>-121.899981</td>\n",
       "      <td>37.323275</td>\n",
       "      <td>31</td>\n",
       "      <td>1</td>\n",
       "      <td>2019</td>\n",
       "      <td>1/31/2019</td>\n",
       "      <td>Commercial</td>\n",
       "      <td>64</td>\n",
       "      <td>316</td>\n",
       "      <td>113</td>\n",
       "      <td>63.0</td>\n",
       "      <td>50.0</td>\n",
       "      <td>210.0</td>\n",
       "      <td>15.0</td>\n",
       "      <td>19.0</td>\n",
       "      <td>109</td>\n",
       "      <td>211</td>\n",
       "      <td>0</td>\n",
       "      <td>1</td>\n",
       "    </tr>\n",
       "    <tr>\n",
       "      <th>2</th>\n",
       "      <td>F192929250</td>\n",
       "      <td>-121.836634</td>\n",
       "      <td>37.241583</td>\n",
       "      <td>19</td>\n",
       "      <td>10</td>\n",
       "      <td>2019</td>\n",
       "      <td>10/19/2019</td>\n",
       "      <td>Residential</td>\n",
       "      <td>42</td>\n",
       "      <td>114</td>\n",
       "      <td>130</td>\n",
       "      <td>73.0</td>\n",
       "      <td>46.0</td>\n",
       "      <td>330.0</td>\n",
       "      <td>14.1</td>\n",
       "      <td>18.1</td>\n",
       "      <td>151</td>\n",
       "      <td>72</td>\n",
       "      <td>3</td>\n",
       "      <td>3</td>\n",
       "    </tr>\n",
       "    <tr>\n",
       "      <th>3</th>\n",
       "      <td>F201419161</td>\n",
       "      <td>-121.865745</td>\n",
       "      <td>37.326272</td>\n",
       "      <td>20</td>\n",
       "      <td>5</td>\n",
       "      <td>2020</td>\n",
       "      <td>5/20/2020</td>\n",
       "      <td>Road</td>\n",
       "      <td>16</td>\n",
       "      <td>221</td>\n",
       "      <td>126</td>\n",
       "      <td>72.0</td>\n",
       "      <td>55.0</td>\n",
       "      <td>360.0</td>\n",
       "      <td>19.9</td>\n",
       "      <td>23.9</td>\n",
       "      <td>136</td>\n",
       "      <td>109</td>\n",
       "      <td>4</td>\n",
       "      <td>2</td>\n",
       "    </tr>\n",
       "    <tr>\n",
       "      <th>4</th>\n",
       "      <td>F212399344</td>\n",
       "      <td>-121.862220</td>\n",
       "      <td>37.374614</td>\n",
       "      <td>27</td>\n",
       "      <td>8</td>\n",
       "      <td>2021</td>\n",
       "      <td>8/27/2021</td>\n",
       "      <td>Road</td>\n",
       "      <td>11</td>\n",
       "      <td>41</td>\n",
       "      <td>140</td>\n",
       "      <td>92.0</td>\n",
       "      <td>59.0</td>\n",
       "      <td>320.0</td>\n",
       "      <td>17.0</td>\n",
       "      <td>21.0</td>\n",
       "      <td>82</td>\n",
       "      <td>151</td>\n",
       "      <td>4</td>\n",
       "      <td>1</td>\n",
       "    </tr>\n",
       "  </tbody>\n",
       "</table>\n",
       "</div>"
      ],
      "text/plain": [
       "  INCIDENT_NO   LONGITUDE   LATITUDE  DAY  MONTH  YEAR        DATE  \\\n",
       "0  F212819105 -121.848353  37.335873    8     10  2021   10/8/2021   \n",
       "1  F190319157 -121.899981  37.323275   31      1  2019   1/31/2019   \n",
       "2  F192929250 -121.836634  37.241583   19     10  2019  10/19/2019   \n",
       "3  F201419161 -121.865745  37.326272   20      5  2020   5/20/2020   \n",
       "4  F212399344 -121.862220  37.374614   27      8  2021   8/27/2021   \n",
       "\n",
       "  ZONING_CATEGORIES  HOUSES WITHIN 100 METER  HOUSES WITHIN 200 METER  \\\n",
       "0              Road                        0                       28   \n",
       "1        Commercial                       64                      316   \n",
       "2       Residential                       42                      114   \n",
       "3              Road                       16                      221   \n",
       "4              Road                       11                       41   \n",
       "\n",
       "   NDVI_VALUE  TMAX  TMIN   WDF5  WSF2  WSF5  NEW_NDVI_VALUE  \\\n",
       "0         106  68.0  53.0  320.0  19.9  25.1             136   \n",
       "1         113  63.0  50.0  210.0  15.0  19.0             109   \n",
       "2         130  73.0  46.0  330.0  14.1  18.1             151   \n",
       "3         126  72.0  55.0  360.0  19.9  23.9             136   \n",
       "4         140  92.0  59.0  320.0  17.0  21.0              82   \n",
       "\n",
       "   NEW_NEW_NDVI_VALUE  ZONING  FIRE_ALARM  \n",
       "0                 227       4           1  \n",
       "1                 211       0           1  \n",
       "2                  72       3           3  \n",
       "3                 109       4           2  \n",
       "4                 151       4           1  "
      ]
     },
     "execution_count": 4,
     "metadata": {},
     "output_type": "execute_result"
    }
   ],
   "source": [
    "#load datasets\n",
    "df = pd.read_csv('data_for_modeling_balanced_data_v4_v4_5zonings_feature_selection.csv')\n",
    "df.head()"
   ]
  },
  {
   "cell_type": "code",
   "execution_count": 5,
   "id": "H4Orvgf_VyQL",
   "metadata": {
    "colab": {
     "base_uri": "https://localhost:8080/"
    },
    "executionInfo": {
     "elapsed": 9,
     "status": "ok",
     "timestamp": 1681154436373,
     "user": {
      "displayName": "Meishan Fan",
      "userId": "14900579168546048834"
     },
     "user_tz": 420
    },
    "id": "H4Orvgf_VyQL",
    "outputId": "63cf3c6a-321d-40d9-c4f0-1d566cb195f1"
   },
   "outputs": [
    {
     "data": {
      "text/plain": [
       "1    4806\n",
       "2    1426\n",
       "3     962\n",
       "Name: FIRE_ALARM, dtype: int64"
      ]
     },
     "execution_count": 5,
     "metadata": {},
     "output_type": "execute_result"
    }
   ],
   "source": [
    "df.FIRE_ALARM.value_counts()"
   ]
  },
  {
   "cell_type": "code",
   "execution_count": 6,
   "id": "ac94d7f4",
   "metadata": {
    "id": "ac94d7f4"
   },
   "outputs": [],
   "source": [
    "# df[\"FIRE_ALARM\"] = df.FIRE_ALARM.replace(3, 2)"
   ]
  },
  {
   "cell_type": "code",
   "execution_count": 33,
   "id": "896ccc64",
   "metadata": {
    "colab": {
     "base_uri": "https://localhost:8080/"
    },
    "executionInfo": {
     "elapsed": 7,
     "status": "ok",
     "timestamp": 1681154436374,
     "user": {
      "displayName": "Meishan Fan",
      "userId": "14900579168546048834"
     },
     "user_tz": 420
    },
    "id": "896ccc64",
    "outputId": "436680cc-5b1e-4b6b-b183-38024e55aad9"
   },
   "outputs": [
    {
     "data": {
      "text/plain": [
       "array([[ 0.37401759,  0.30240938,  1.08271881, ...,  0.58208317,\n",
       "         0.13684295,  0.86607005],\n",
       "       [-0.68487198,  0.01775024, -1.69490667, ..., -0.43255201,\n",
       "        -0.35304059, -2.09801555],\n",
       "       [ 0.61437412, -1.82812809,  1.08271881, ..., -0.58225228,\n",
       "         0.40900048,  0.12504865],\n",
       "       ...,\n",
       "       [ 0.64413411,  1.61390218,  0.77409375, ...,  0.23278253,\n",
       "        -0.0990269 , -0.61597275],\n",
       "       [-0.48332035,  0.31786476,  0.77409375, ...,  0.23278253,\n",
       "        -0.0990269 , -2.09801555],\n",
       "       [ 0.30018164, -1.34898876,  0.77409375, ...,  0.38248281,\n",
       "         0.86259636,  0.12504865]])"
      ]
     },
     "execution_count": 33,
     "metadata": {},
     "output_type": "execute_result"
    }
   ],
   "source": [
    "X = df.drop([\"FIRE_ALARM\", \"INCIDENT_NO\", \"DATE\", \"DAY\", \"ZONING_CATEGORIES\",\"NEW_NEW_NDVI_VALUE\"], axis = 1)\n",
    "y = df[\"FIRE_ALARM\"]\n",
    "\n",
    "scaler = StandardScaler()\n",
    "scaled_X = scaler.fit_transform(X)\n",
    "scaled_X"
   ]
  },
  {
   "cell_type": "code",
   "execution_count": 34,
   "id": "4jqATgKLdcBE",
   "metadata": {
    "id": "4jqATgKLdcBE"
   },
   "outputs": [],
   "source": [
    "X_train, X_test, y_train, y_test = train_test_split(scaled_X, y, test_size=0.3, random_state=42)"
   ]
  },
  {
   "cell_type": "code",
   "execution_count": 35,
   "id": "8b3c8f4b",
   "metadata": {
    "colab": {
     "base_uri": "https://localhost:8080/",
     "height": 855
    },
    "executionInfo": {
     "elapsed": 3546,
     "status": "ok",
     "timestamp": 1681154440764,
     "user": {
      "displayName": "Meishan Fan",
      "userId": "14900579168546048834"
     },
     "user_tz": 420
    },
    "id": "8b3c8f4b",
    "outputId": "ccf2c6d2-90b8-48d1-c4c7-abb0c0241403"
   },
   "outputs": [
    {
     "name": "stdout",
     "output_type": "stream",
     "text": [
      "[[1434    0   17]\n",
      " [ 407    0   12]\n",
      " [ 251    0   38]]\n",
      "Accuracy Score 0.6817971283001389\n",
      "Classification reportL              precision    recall  f1-score   support\n",
      "\n",
      "           1       0.69      0.99      0.81      1451\n",
      "           2       0.00      0.00      0.00       419\n",
      "           3       0.57      0.13      0.21       289\n",
      "\n",
      "    accuracy                           0.68      2159\n",
      "   macro avg       0.42      0.37      0.34      2159\n",
      "weighted avg       0.54      0.68      0.57      2159\n",
      "\n",
      "              precision    recall  f1-score   support\n",
      "\n",
      "           1     0.6855    0.9883    0.8095      1451\n",
      "           2     0.0000    0.0000    0.0000       419\n",
      "           3     0.5672    0.1315    0.2135       289\n",
      "\n",
      "    accuracy                         0.6818      2159\n",
      "   macro avg     0.4175    0.3733    0.3410      2159\n",
      "weighted avg     0.5366    0.6818    0.5726      2159\n",
      "\n"
     ]
    },
    {
     "name": "stderr",
     "output_type": "stream",
     "text": [
      "C:\\Users\\sanja\\anaconda3\\lib\\site-packages\\sklearn\\metrics\\_classification.py:1344: UndefinedMetricWarning: Precision and F-score are ill-defined and being set to 0.0 in labels with no predicted samples. Use `zero_division` parameter to control this behavior.\n",
      "  _warn_prf(average, modifier, msg_start, len(result))\n",
      "C:\\Users\\sanja\\anaconda3\\lib\\site-packages\\sklearn\\metrics\\_classification.py:1344: UndefinedMetricWarning: Precision and F-score are ill-defined and being set to 0.0 in labels with no predicted samples. Use `zero_division` parameter to control this behavior.\n",
      "  _warn_prf(average, modifier, msg_start, len(result))\n",
      "C:\\Users\\sanja\\anaconda3\\lib\\site-packages\\sklearn\\metrics\\_classification.py:1344: UndefinedMetricWarning: Precision and F-score are ill-defined and being set to 0.0 in labels with no predicted samples. Use `zero_division` parameter to control this behavior.\n",
      "  _warn_prf(average, modifier, msg_start, len(result))\n",
      "C:\\Users\\sanja\\anaconda3\\lib\\site-packages\\sklearn\\metrics\\_classification.py:1344: UndefinedMetricWarning: Precision and F-score are ill-defined and being set to 0.0 in labels with no predicted samples. Use `zero_division` parameter to control this behavior.\n",
      "  _warn_prf(average, modifier, msg_start, len(result))\n",
      "C:\\Users\\sanja\\anaconda3\\lib\\site-packages\\sklearn\\metrics\\_classification.py:1344: UndefinedMetricWarning: Precision and F-score are ill-defined and being set to 0.0 in labels with no predicted samples. Use `zero_division` parameter to control this behavior.\n",
      "  _warn_prf(average, modifier, msg_start, len(result))\n",
      "C:\\Users\\sanja\\anaconda3\\lib\\site-packages\\sklearn\\metrics\\_classification.py:1344: UndefinedMetricWarning: Precision and F-score are ill-defined and being set to 0.0 in labels with no predicted samples. Use `zero_division` parameter to control this behavior.\n",
      "  _warn_prf(average, modifier, msg_start, len(result))\n"
     ]
    },
    {
     "data": {
      "text/plain": [
       "<sklearn.metrics._plot.confusion_matrix.ConfusionMatrixDisplay at 0x2658ffefe80>"
      ]
     },
     "execution_count": 35,
     "metadata": {},
     "output_type": "execute_result"
    },
    {
     "data": {
      "image/png": "[encoded data removed]",
      "text/plain": [
       "<Figure size 640x480 with 2 Axes>"
      ]
     },
     "metadata": {},
     "output_type": "display_data"
    }
   ],
   "source": [
    "clf = SVC(kernel='linear')\n",
    "clf.fit(X_train,y_train)\n",
    "y_pred = clf.predict(X_test)\n",
    "\n",
    "print(confusion_matrix(y_test,y_pred))\n",
    "print('Accuracy Score {}'.format(accuracy_score(y_test,y_pred)))\n",
    "print('Classification reportL{}'.format(classification_report(y_test,y_pred)))\n",
    "\n",
    "print(classification_report(y_test, y_pred, digits = 4))\n",
    "ConfusionMatrixDisplay.from_estimator(clf, X_test, y_test)"
   ]
  },
  {
   "cell_type": "markdown",
   "id": "9Mm_ZxGTa9sX",
   "metadata": {
    "id": "9Mm_ZxGTa9sX"
   },
   "source": [
    "### hyperparameters tuning"
   ]
  },
  {
   "cell_type": "code",
   "execution_count": 36,
   "id": "3BYdWMYaXLvo",
   "metadata": {
    "colab": {
     "base_uri": "https://localhost:8080/",
     "height": 118
    },
    "executionInfo": {
     "elapsed": 455,
     "status": "ok",
     "timestamp": 1681154327913,
     "user": {
      "displayName": "Meishan Fan",
      "userId": "14900579168546048834"
     },
     "user_tz": 420
    },
    "id": "3BYdWMYaXLvo",
    "outputId": "788f9e6c-e9ff-48e6-ecd8-bb038db8d65c"
   },
   "outputs": [
    {
     "data": {
      "text/html": [
       "<style>#sk-container-id-5 {color: black;background-color: white;}#sk-container-id-5 pre{padding: 0;}#sk-container-id-5 div.sk-toggleable {background-color: white;}#sk-container-id-5 label.sk-toggleable__label {cursor: pointer;display: block;width: 100%;margin-bottom: 0;padding: 0.3em;box-sizing: border-box;text-align: center;}#sk-container-id-5 label.sk-toggleable__label-arrow:before {content: \"▸\";float: left;margin-right: 0.25em;color: #696969;}#sk-container-id-5 label.sk-toggleable__label-arrow:hover:before {color: black;}#sk-container-id-5 div.sk-estimator:hover label.sk-toggleable__label-arrow:before {color: black;}#sk-container-id-5 div.sk-toggleable__content {max-height: 0;max-width: 0;overflow: hidden;text-align: left;background-color: #f0f8ff;}#sk-container-id-5 div.sk-toggleable__content pre {margin: 0.2em;color: black;border-radius: 0.25em;background-color: #f0f8ff;}#sk-container-id-5 input.sk-toggleable__control:checked~div.sk-toggleable__content {max-height: 200px;max-width: 100%;overflow: auto;}#sk-container-id-5 input.sk-toggleable__control:checked~label.sk-toggleable__label-arrow:before {content: \"▾\";}#sk-container-id-5 div.sk-estimator input.sk-toggleable__control:checked~label.sk-toggleable__label {background-color: #d4ebff;}#sk-container-id-5 div.sk-label input.sk-toggleable__control:checked~label.sk-toggleable__label {background-color: #d4ebff;}#sk-container-id-5 input.sk-hidden--visually {border: 0;clip: rect(1px 1px 1px 1px);clip: rect(1px, 1px, 1px, 1px);height: 1px;margin: -1px;overflow: hidden;padding: 0;position: absolute;width: 1px;}#sk-container-id-5 div.sk-estimator {font-family: monospace;background-color: #f0f8ff;border: 1px dotted black;border-radius: 0.25em;box-sizing: border-box;margin-bottom: 0.5em;}#sk-container-id-5 div.sk-estimator:hover {background-color: #d4ebff;}#sk-container-id-5 div.sk-parallel-item::after {content: \"\";width: 100%;border-bottom: 1px solid gray;flex-grow: 1;}#sk-container-id-5 div.sk-label:hover label.sk-toggleable__label {background-color: #d4ebff;}#sk-container-id-5 div.sk-serial::before {content: \"\";position: absolute;border-left: 1px solid gray;box-sizing: border-box;top: 0;bottom: 0;left: 50%;z-index: 0;}#sk-container-id-5 div.sk-serial {display: flex;flex-direction: column;align-items: center;background-color: white;padding-right: 0.2em;padding-left: 0.2em;position: relative;}#sk-container-id-5 div.sk-item {position: relative;z-index: 1;}#sk-container-id-5 div.sk-parallel {display: flex;align-items: stretch;justify-content: center;background-color: white;position: relative;}#sk-container-id-5 div.sk-item::before, #sk-container-id-5 div.sk-parallel-item::before {content: \"\";position: absolute;border-left: 1px solid gray;box-sizing: border-box;top: 0;bottom: 0;left: 50%;z-index: -1;}#sk-container-id-5 div.sk-parallel-item {display: flex;flex-direction: column;z-index: 1;position: relative;background-color: white;}#sk-container-id-5 div.sk-parallel-item:first-child::after {align-self: flex-end;width: 50%;}#sk-container-id-5 div.sk-parallel-item:last-child::after {align-self: flex-start;width: 50%;}#sk-container-id-5 div.sk-parallel-item:only-child::after {width: 0;}#sk-container-id-5 div.sk-dashed-wrapped {border: 1px dashed gray;margin: 0 0.4em 0.5em 0.4em;box-sizing: border-box;padding-bottom: 0.4em;background-color: white;}#sk-container-id-5 div.sk-label label {font-family: monospace;font-weight: bold;display: inline-block;line-height: 1.2em;}#sk-container-id-5 div.sk-label-container {text-align: center;}#sk-container-id-5 div.sk-container {/* jupyter's `normalize.less` sets `[hidden] { display: none; }` but bootstrap.min.css set `[hidden] { display: none !important; }` so we also need the `!important` here to be able to override the default hidden behavior on the sphinx rendered scikit-learn.org. See: https://github.com/scikit-learn/scikit-learn/issues/21755 */display: inline-block !important;position: relative;}#sk-container-id-5 div.sk-text-repr-fallback {display: none;}</style><div id=\"sk-container-id-5\" class=\"sk-top-container\"><div class=\"sk-text-repr-fallback\"><pre>GridSearchCV(cv=5, estimator=SVC(),\n",
       "             param_grid={&#x27;C&#x27;: [1, 10, 100], &#x27;gamma&#x27;: [1, 0.1, 0.01, 0.001],\n",
       "                         &#x27;kernel&#x27;: [&#x27;rbf&#x27;]},\n",
       "             verbose=3)</pre><b>In a Jupyter environment, please rerun this cell to show the HTML representation or trust the notebook. <br />On GitHub, the HTML representation is unable to render, please try loading this page with nbviewer.org.</b></div><div class=\"sk-container\" hidden><div class=\"sk-item sk-dashed-wrapped\"><div class=\"sk-label-container\"><div class=\"sk-label sk-toggleable\"><input class=\"sk-toggleable__control sk-hidden--visually\" id=\"sk-estimator-id-13\" type=\"checkbox\" ><label for=\"sk-estimator-id-13\" class=\"sk-toggleable__label sk-toggleable__label-arrow\">GridSearchCV</label><div class=\"sk-toggleable__content\"><pre>GridSearchCV(cv=5, estimator=SVC(),\n",
       "             param_grid={&#x27;C&#x27;: [1, 10, 100], &#x27;gamma&#x27;: [1, 0.1, 0.01, 0.001],\n",
       "                         &#x27;kernel&#x27;: [&#x27;rbf&#x27;]},\n",
       "             verbose=3)</pre></div></div></div><div class=\"sk-parallel\"><div class=\"sk-parallel-item\"><div class=\"sk-item\"><div class=\"sk-label-container\"><div class=\"sk-label sk-toggleable\"><input class=\"sk-toggleable__control sk-hidden--visually\" id=\"sk-estimator-id-14\" type=\"checkbox\" ><label for=\"sk-estimator-id-14\" class=\"sk-toggleable__label sk-toggleable__label-arrow\">estimator: SVC</label><div class=\"sk-toggleable__content\"><pre>SVC()</pre></div></div></div><div class=\"sk-serial\"><div class=\"sk-item\"><div class=\"sk-estimator sk-toggleable\"><input class=\"sk-toggleable__control sk-hidden--visually\" id=\"sk-estimator-id-15\" type=\"checkbox\" ><label for=\"sk-estimator-id-15\" class=\"sk-toggleable__label sk-toggleable__label-arrow\">SVC</label><div class=\"sk-toggleable__content\"><pre>SVC()</pre></div></div></div></div></div></div></div></div></div></div>"
      ],
      "text/plain": [
       "GridSearchCV(cv=5, estimator=SVC(),\n",
       "             param_grid={'C': [1, 10, 100], 'gamma': [1, 0.1, 0.01, 0.001],\n",
       "                         'kernel': ['rbf']},\n",
       "             verbose=3)"
      ]
     },
     "execution_count": 36,
     "metadata": {},
     "output_type": "execute_result"
    }
   ],
   "source": [
    "sc_param_grid = {'kernel': ['rbf'], \"C\": [1, 10,100], \"gamma\": [1, 0.1, 0.01,0.001]}\n",
    "sc_grid = GridSearchCV(estimator = SVC(), param_grid = sc_param_grid, refit = True, verbose = 3, cv = 5)\n",
    "sc_grid"
   ]
  },
  {
   "cell_type": "code",
   "execution_count": 37,
   "id": "8CltK9dlXN43",
   "metadata": {
    "colab": {
     "base_uri": "https://localhost:8080/",
     "height": 1000
    },
    "executionInfo": {
     "elapsed": 28781,
     "status": "ok",
     "timestamp": 1681154358222,
     "user": {
      "displayName": "Meishan Fan",
      "userId": "14900579168546048834"
     },
     "user_tz": 420
    },
    "id": "8CltK9dlXN43",
    "outputId": "abc8c967-e4e5-4931-94ee-b83a07352d08"
   },
   "outputs": [
    {
     "name": "stdout",
     "output_type": "stream",
     "text": [
      "Fitting 5 folds for each of 12 candidates, totalling 60 fits\n",
      "[CV 1/5] END ..........C=1, gamma=1, kernel=rbf;, score=0.669 total time=   1.8s\n",
      "[CV 2/5] END ..........C=1, gamma=1, kernel=rbf;, score=0.670 total time=   1.8s\n",
      "[CV 3/5] END ..........C=1, gamma=1, kernel=rbf;, score=0.669 total time=   1.7s\n",
      "[CV 4/5] END ..........C=1, gamma=1, kernel=rbf;, score=0.669 total time=   1.7s\n",
      "[CV 5/5] END ..........C=1, gamma=1, kernel=rbf;, score=0.668 total time=   1.7s\n",
      "[CV 1/5] END ........C=1, gamma=0.1, kernel=rbf;, score=0.697 total time=   0.9s\n",
      "[CV 2/5] END ........C=1, gamma=0.1, kernel=rbf;, score=0.694 total time=   1.1s\n",
      "[CV 3/5] END ........C=1, gamma=0.1, kernel=rbf;, score=0.687 total time=   0.9s\n",
      "[CV 4/5] END ........C=1, gamma=0.1, kernel=rbf;, score=0.697 total time=   1.0s\n",
      "[CV 5/5] END ........C=1, gamma=0.1, kernel=rbf;, score=0.690 total time=   1.0s\n",
      "[CV 1/5] END .......C=1, gamma=0.01, kernel=rbf;, score=0.677 total time=   0.9s\n",
      "[CV 2/5] END .......C=1, gamma=0.01, kernel=rbf;, score=0.674 total time=   0.9s\n",
      "[CV 3/5] END .......C=1, gamma=0.01, kernel=rbf;, score=0.683 total time=   0.9s\n",
      "[CV 4/5] END .......C=1, gamma=0.01, kernel=rbf;, score=0.672 total time=   1.0s\n",
      "[CV 5/5] END .......C=1, gamma=0.01, kernel=rbf;, score=0.670 total time=   0.9s\n",
      "[CV 1/5] END ......C=1, gamma=0.001, kernel=rbf;, score=0.666 total time=   0.9s\n",
      "[CV 2/5] END ......C=1, gamma=0.001, kernel=rbf;, score=0.666 total time=   0.8s\n",
      "[CV 3/5] END ......C=1, gamma=0.001, kernel=rbf;, score=0.666 total time=   0.9s\n",
      "[CV 4/5] END ......C=1, gamma=0.001, kernel=rbf;, score=0.666 total time=   1.0s\n",
      "[CV 5/5] END ......C=1, gamma=0.001, kernel=rbf;, score=0.666 total time=   0.9s\n",
      "[CV 1/5] END .........C=10, gamma=1, kernel=rbf;, score=0.669 total time=   2.0s\n",
      "[CV 2/5] END .........C=10, gamma=1, kernel=rbf;, score=0.669 total time=   1.9s\n",
      "[CV 3/5] END .........C=10, gamma=1, kernel=rbf;, score=0.669 total time=   2.0s\n",
      "[CV 4/5] END .........C=10, gamma=1, kernel=rbf;, score=0.665 total time=   1.9s\n",
      "[CV 5/5] END .........C=10, gamma=1, kernel=rbf;, score=0.670 total time=   1.9s\n",
      "[CV 1/5] END .......C=10, gamma=0.1, kernel=rbf;, score=0.644 total time=   1.4s\n",
      "[CV 2/5] END .......C=10, gamma=0.1, kernel=rbf;, score=0.680 total time=   1.3s\n",
      "[CV 3/5] END .......C=10, gamma=0.1, kernel=rbf;, score=0.651 total time=   1.4s\n",
      "[CV 4/5] END .......C=10, gamma=0.1, kernel=rbf;, score=0.671 total time=   1.4s\n",
      "[CV 5/5] END .......C=10, gamma=0.1, kernel=rbf;, score=0.666 total time=   1.3s\n",
      "[CV 1/5] END ......C=10, gamma=0.01, kernel=rbf;, score=0.686 total time=   1.0s\n",
      "[CV 2/5] END ......C=10, gamma=0.01, kernel=rbf;, score=0.680 total time=   1.1s\n",
      "[CV 3/5] END ......C=10, gamma=0.01, kernel=rbf;, score=0.688 total time=   1.0s\n",
      "[CV 4/5] END ......C=10, gamma=0.01, kernel=rbf;, score=0.682 total time=   1.0s\n",
      "[CV 5/5] END ......C=10, gamma=0.01, kernel=rbf;, score=0.673 total time=   1.0s\n",
      "[CV 1/5] END .....C=10, gamma=0.001, kernel=rbf;, score=0.677 total time=   1.2s\n",
      "[CV 2/5] END .....C=10, gamma=0.001, kernel=rbf;, score=0.672 total time=   1.1s\n",
      "[CV 3/5] END .....C=10, gamma=0.001, kernel=rbf;, score=0.684 total time=   1.0s\n",
      "[CV 4/5] END .....C=10, gamma=0.001, kernel=rbf;, score=0.672 total time=   1.0s\n",
      "[CV 5/5] END .....C=10, gamma=0.001, kernel=rbf;, score=0.670 total time=   1.1s\n",
      "[CV 1/5] END ........C=100, gamma=1, kernel=rbf;, score=0.669 total time=   1.8s\n",
      "[CV 2/5] END ........C=100, gamma=1, kernel=rbf;, score=0.669 total time=   2.0s\n",
      "[CV 3/5] END ........C=100, gamma=1, kernel=rbf;, score=0.669 total time=   1.8s\n",
      "[CV 4/5] END ........C=100, gamma=1, kernel=rbf;, score=0.665 total time=   1.7s\n",
      "[CV 5/5] END ........C=100, gamma=1, kernel=rbf;, score=0.670 total time=   1.8s\n",
      "[CV 1/5] END ......C=100, gamma=0.1, kernel=rbf;, score=0.616 total time=   2.3s\n",
      "[CV 2/5] END ......C=100, gamma=0.1, kernel=rbf;, score=0.645 total time=   2.2s\n",
      "[CV 3/5] END ......C=100, gamma=0.1, kernel=rbf;, score=0.614 total time=   2.2s\n",
      "[CV 4/5] END ......C=100, gamma=0.1, kernel=rbf;, score=0.628 total time=   2.1s\n",
      "[CV 5/5] END ......C=100, gamma=0.1, kernel=rbf;, score=0.608 total time=   2.2s\n",
      "[CV 1/5] END .....C=100, gamma=0.01, kernel=rbf;, score=0.692 total time=   1.5s\n",
      "[CV 2/5] END .....C=100, gamma=0.01, kernel=rbf;, score=0.691 total time=   1.5s\n",
      "[CV 3/5] END .....C=100, gamma=0.01, kernel=rbf;, score=0.685 total time=   1.6s\n",
      "[CV 4/5] END .....C=100, gamma=0.01, kernel=rbf;, score=0.714 total time=   1.6s\n",
      "[CV 5/5] END .....C=100, gamma=0.01, kernel=rbf;, score=0.681 total time=   1.6s\n",
      "[CV 1/5] END ....C=100, gamma=0.001, kernel=rbf;, score=0.680 total time=   1.2s\n",
      "[CV 2/5] END ....C=100, gamma=0.001, kernel=rbf;, score=0.676 total time=   1.4s\n",
      "[CV 3/5] END ....C=100, gamma=0.001, kernel=rbf;, score=0.684 total time=   1.0s\n",
      "[CV 4/5] END ....C=100, gamma=0.001, kernel=rbf;, score=0.681 total time=   1.3s\n",
      "[CV 5/5] END ....C=100, gamma=0.001, kernel=rbf;, score=0.668 total time=   1.1s\n"
     ]
    },
    {
     "data": {
      "text/html": [
       "<style>#sk-container-id-6 {color: black;background-color: white;}#sk-container-id-6 pre{padding: 0;}#sk-container-id-6 div.sk-toggleable {background-color: white;}#sk-container-id-6 label.sk-toggleable__label {cursor: pointer;display: block;width: 100%;margin-bottom: 0;padding: 0.3em;box-sizing: border-box;text-align: center;}#sk-container-id-6 label.sk-toggleable__label-arrow:before {content: \"▸\";float: left;margin-right: 0.25em;color: #696969;}#sk-container-id-6 label.sk-toggleable__label-arrow:hover:before {color: black;}#sk-container-id-6 div.sk-estimator:hover label.sk-toggleable__label-arrow:before {color: black;}#sk-container-id-6 div.sk-toggleable__content {max-height: 0;max-width: 0;overflow: hidden;text-align: left;background-color: #f0f8ff;}#sk-container-id-6 div.sk-toggleable__content pre {margin: 0.2em;color: black;border-radius: 0.25em;background-color: #f0f8ff;}#sk-container-id-6 input.sk-toggleable__control:checked~div.sk-toggleable__content {max-height: 200px;max-width: 100%;overflow: auto;}#sk-container-id-6 input.sk-toggleable__control:checked~label.sk-toggleable__label-arrow:before {content: \"▾\";}#sk-container-id-6 div.sk-estimator input.sk-toggleable__control:checked~label.sk-toggleable__label {background-color: #d4ebff;}#sk-container-id-6 div.sk-label input.sk-toggleable__control:checked~label.sk-toggleable__label {background-color: #d4ebff;}#sk-container-id-6 input.sk-hidden--visually {border: 0;clip: rect(1px 1px 1px 1px);clip: rect(1px, 1px, 1px, 1px);height: 1px;margin: -1px;overflow: hidden;padding: 0;position: absolute;width: 1px;}#sk-container-id-6 div.sk-estimator {font-family: monospace;background-color: #f0f8ff;border: 1px dotted black;border-radius: 0.25em;box-sizing: border-box;margin-bottom: 0.5em;}#sk-container-id-6 div.sk-estimator:hover {background-color: #d4ebff;}#sk-container-id-6 div.sk-parallel-item::after {content: \"\";width: 100%;border-bottom: 1px solid gray;flex-grow: 1;}#sk-container-id-6 div.sk-label:hover label.sk-toggleable__label {background-color: #d4ebff;}#sk-container-id-6 div.sk-serial::before {content: \"\";position: absolute;border-left: 1px solid gray;box-sizing: border-box;top: 0;bottom: 0;left: 50%;z-index: 0;}#sk-container-id-6 div.sk-serial {display: flex;flex-direction: column;align-items: center;background-color: white;padding-right: 0.2em;padding-left: 0.2em;position: relative;}#sk-container-id-6 div.sk-item {position: relative;z-index: 1;}#sk-container-id-6 div.sk-parallel {display: flex;align-items: stretch;justify-content: center;background-color: white;position: relative;}#sk-container-id-6 div.sk-item::before, #sk-container-id-6 div.sk-parallel-item::before {content: \"\";position: absolute;border-left: 1px solid gray;box-sizing: border-box;top: 0;bottom: 0;left: 50%;z-index: -1;}#sk-container-id-6 div.sk-parallel-item {display: flex;flex-direction: column;z-index: 1;position: relative;background-color: white;}#sk-container-id-6 div.sk-parallel-item:first-child::after {align-self: flex-end;width: 50%;}#sk-container-id-6 div.sk-parallel-item:last-child::after {align-self: flex-start;width: 50%;}#sk-container-id-6 div.sk-parallel-item:only-child::after {width: 0;}#sk-container-id-6 div.sk-dashed-wrapped {border: 1px dashed gray;margin: 0 0.4em 0.5em 0.4em;box-sizing: border-box;padding-bottom: 0.4em;background-color: white;}#sk-container-id-6 div.sk-label label {font-family: monospace;font-weight: bold;display: inline-block;line-height: 1.2em;}#sk-container-id-6 div.sk-label-container {text-align: center;}#sk-container-id-6 div.sk-container {/* jupyter's `normalize.less` sets `[hidden] { display: none; }` but bootstrap.min.css set `[hidden] { display: none !important; }` so we also need the `!important` here to be able to override the default hidden behavior on the sphinx rendered scikit-learn.org. See: https://github.com/scikit-learn/scikit-learn/issues/21755 */display: inline-block !important;position: relative;}#sk-container-id-6 div.sk-text-repr-fallback {display: none;}</style><div id=\"sk-container-id-6\" class=\"sk-top-container\"><div class=\"sk-text-repr-fallback\"><pre>GridSearchCV(cv=5, estimator=SVC(),\n",
       "             param_grid={&#x27;C&#x27;: [1, 10, 100], &#x27;gamma&#x27;: [1, 0.1, 0.01, 0.001],\n",
       "                         &#x27;kernel&#x27;: [&#x27;rbf&#x27;]},\n",
       "             verbose=3)</pre><b>In a Jupyter environment, please rerun this cell to show the HTML representation or trust the notebook. <br />On GitHub, the HTML representation is unable to render, please try loading this page with nbviewer.org.</b></div><div class=\"sk-container\" hidden><div class=\"sk-item sk-dashed-wrapped\"><div class=\"sk-label-container\"><div class=\"sk-label sk-toggleable\"><input class=\"sk-toggleable__control sk-hidden--visually\" id=\"sk-estimator-id-16\" type=\"checkbox\" ><label for=\"sk-estimator-id-16\" class=\"sk-toggleable__label sk-toggleable__label-arrow\">GridSearchCV</label><div class=\"sk-toggleable__content\"><pre>GridSearchCV(cv=5, estimator=SVC(),\n",
       "             param_grid={&#x27;C&#x27;: [1, 10, 100], &#x27;gamma&#x27;: [1, 0.1, 0.01, 0.001],\n",
       "                         &#x27;kernel&#x27;: [&#x27;rbf&#x27;]},\n",
       "             verbose=3)</pre></div></div></div><div class=\"sk-parallel\"><div class=\"sk-parallel-item\"><div class=\"sk-item\"><div class=\"sk-label-container\"><div class=\"sk-label sk-toggleable\"><input class=\"sk-toggleable__control sk-hidden--visually\" id=\"sk-estimator-id-17\" type=\"checkbox\" ><label for=\"sk-estimator-id-17\" class=\"sk-toggleable__label sk-toggleable__label-arrow\">estimator: SVC</label><div class=\"sk-toggleable__content\"><pre>SVC()</pre></div></div></div><div class=\"sk-serial\"><div class=\"sk-item\"><div class=\"sk-estimator sk-toggleable\"><input class=\"sk-toggleable__control sk-hidden--visually\" id=\"sk-estimator-id-18\" type=\"checkbox\" ><label for=\"sk-estimator-id-18\" class=\"sk-toggleable__label sk-toggleable__label-arrow\">SVC</label><div class=\"sk-toggleable__content\"><pre>SVC()</pre></div></div></div></div></div></div></div></div></div></div>"
      ],
      "text/plain": [
       "GridSearchCV(cv=5, estimator=SVC(),\n",
       "             param_grid={'C': [1, 10, 100], 'gamma': [1, 0.1, 0.01, 0.001],\n",
       "                         'kernel': ['rbf']},\n",
       "             verbose=3)"
      ]
     },
     "execution_count": 37,
     "metadata": {},
     "output_type": "execute_result"
    }
   ],
   "source": [
    "sc_grid.fit(X_train, y_train)"
   ]
  },
  {
   "cell_type": "code",
   "execution_count": 38,
   "id": "d6_ZcmCjXUUm",
   "metadata": {
    "colab": {
     "base_uri": "https://localhost:8080/"
    },
    "executionInfo": {
     "elapsed": 8,
     "status": "ok",
     "timestamp": 1681157040519,
     "user": {
      "displayName": "Meishan Fan",
      "userId": "14900579168546048834"
     },
     "user_tz": 420
    },
    "id": "d6_ZcmCjXUUm",
    "outputId": "2a190493-e54f-4a19-833e-b420036bbed0"
   },
   "outputs": [
    {
     "data": {
      "text/plain": [
       "{'C': 1, 'gamma': 0.1, 'kernel': 'rbf'}"
      ]
     },
     "execution_count": 38,
     "metadata": {},
     "output_type": "execute_result"
    }
   ],
   "source": [
    "sc_grid.best_params_"
   ]
  },
  {
   "cell_type": "code",
   "execution_count": 39,
   "id": "h9IwAZPzXU0V",
   "metadata": {
    "colab": {
     "base_uri": "https://localhost:8080/"
    },
    "executionInfo": {
     "elapsed": 5,
     "status": "ok",
     "timestamp": 1681157040519,
     "user": {
      "displayName": "Meishan Fan",
      "userId": "14900579168546048834"
     },
     "user_tz": 420
    },
    "id": "h9IwAZPzXU0V",
    "outputId": "dd648335-85a4-46ca-c007-2c47d0ae5628"
   },
   "outputs": [
    {
     "data": {
      "text/plain": [
       "0.6931479642502483"
      ]
     },
     "execution_count": 39,
     "metadata": {},
     "output_type": "execute_result"
    }
   ],
   "source": [
    "sc_grid.best_score_"
   ]
  },
  {
   "cell_type": "code",
   "execution_count": 40,
   "id": "6WUfoV-fXU18",
   "metadata": {
    "colab": {
     "base_uri": "https://localhost:8080/",
     "height": 855
    },
    "executionInfo": {
     "elapsed": 4460,
     "status": "ok",
     "timestamp": 1681157044975,
     "user": {
      "displayName": "Meishan Fan",
      "userId": "14900579168546048834"
     },
     "user_tz": 420
    },
    "id": "6WUfoV-fXU18",
    "outputId": "fb4187c9-25ea-43b5-e015-721023f6931a"
   },
   "outputs": [
    {
     "name": "stdout",
     "output_type": "stream",
     "text": [
      "[[1381   39   31]\n",
      " [ 359   45   15]\n",
      " [ 209   24   56]]\n",
      "Accuracy Score 0.6864289022695692\n",
      "Classification reportL              precision    recall  f1-score   support\n",
      "\n",
      "           1       0.71      0.95      0.81      1451\n",
      "           2       0.42      0.11      0.17       419\n",
      "           3       0.55      0.19      0.29       289\n",
      "\n",
      "    accuracy                           0.69      2159\n",
      "   macro avg       0.56      0.42      0.42      2159\n",
      "weighted avg       0.63      0.69      0.62      2159\n",
      "\n",
      "              precision    recall  f1-score   support\n",
      "\n",
      "           1     0.7086    0.9518    0.8124      1451\n",
      "           2     0.4167    0.1074    0.1708       419\n",
      "           3     0.5490    0.1938    0.2864       289\n",
      "\n",
      "    accuracy                         0.6864      2159\n",
      "   macro avg     0.5581    0.4176    0.4232      2159\n",
      "weighted avg     0.6306    0.6864    0.6174      2159\n",
      "\n"
     ]
    },
    {
     "data": {
      "image/png": "[encoded data removed]",
      "text/plain": [
       "<Figure size 640x480 with 2 Axes>"
      ]
     },
     "metadata": {},
     "output_type": "display_data"
    }
   ],
   "source": [
    "# fittming model with the best params\n",
    "clf = SVC(kernel=sc_grid.best_params_['kernel'], C = sc_grid.best_params_[\"C\"], gamma = sc_grid.best_params_['gamma'])\n",
    "clf.fit(X_train,y_train)\n",
    "y_pred = clf.predict(X_test)\n",
    "print(confusion_matrix(y_test,y_pred))\n",
    "print('Accuracy Score {}'.format(accuracy_score(y_test,y_pred)))\n",
    "ConfusionMatrixDisplay.from_estimator(clf, X_test, y_test)\n",
    "print('Classification reportL{}'.format(classification_report(y_test,y_pred)))\n",
    "print(classification_report(y_test, y_pred, digits = 4))"
   ]
  },
  {
   "cell_type": "code",
   "execution_count": 41,
   "id": "9f143e39",
   "metadata": {},
   "outputs": [
    {
     "name": "stdout",
     "output_type": "stream",
     "text": [
      "[[1381   39   31]\n",
      " [ 359   45   15]\n",
      " [ 209   24   56]]\n"
     ]
    }
   ],
   "source": [
    "print(confusion_matrix(y_test,y_pred))"
   ]
  },
  {
   "cell_type": "code",
   "execution_count": 42,
   "id": "ac13fbda",
   "metadata": {},
   "outputs": [
    {
     "data": {
      "text/plain": [
       "<sklearn.metrics._plot.confusion_matrix.ConfusionMatrixDisplay at 0x2658ffe5c40>"
      ]
     },
     "execution_count": 42,
     "metadata": {},
     "output_type": "execute_result"
    },
    {
     "data": {
      "image/png": "[encoded data removed]",
      "text/plain": [
       "<Figure size 640x480 with 2 Axes>"
      ]
     },
     "metadata": {},
     "output_type": "display_data"
    }
   ],
   "source": [
    "ConfusionMatrixDisplay.from_estimator(clf, X_test, y_test)"
   ]
  },
  {
   "cell_type": "code",
   "execution_count": 43,
   "id": "0c066c78",
   "metadata": {},
   "outputs": [],
   "source": [
    "# import matplotlib.pyplot as plt\n",
    "# import numpy as np\n",
    "# from sklearn.model_selection import LearningCurveDisplay, ShuffleSplit"
   ]
  },
  {
   "cell_type": "code",
   "execution_count": 44,
   "id": "4dcffd8f",
   "metadata": {},
   "outputs": [],
   "source": [
    "# fig, ax = plt.subplots(nrows=1, ncols=2, figsize=(10,6), sharey=True)\n",
    "\n",
    "# common_params = {\n",
    "#     \"X\": X,\n",
    "#     \"y\": y,\n",
    "#     \"train_sizes\": np.linspace(0.1, 1.0, 5),\n",
    "#     \"cv\": ShuffleSplit(n_splits=50, test_size=0.3, random_state=0),\n",
    "#     \"score_type\": \"both\",\n",
    "#     \"n_jobs\": 4,\n",
    "#     \"line_kw\": {\"marker\": \"o\"},\n",
    "#     \"std_display_style\": \"fill_between\",\n",
    "#     \"score_name\": \"Accuracy\",\n",
    "# }\n",
    "\n",
    "# for ax_idx, estimator in enumerate([clf]):\n",
    "#     LearningCurveDisplay.from_estimator(estimator, **common_params, ax=ax[ax_idx])\n",
    "#     handles, label = ax[ax_idx].get_legend_handles_labels()\n",
    "#     ax[ax_idx].legend(handles[:2], [\"Training Score\", \"Test Score\"])\n",
    "#     ax[ax_idx].set_title(f\"Learning Curve for {estimator.__class__.__name__}\")"
   ]
  },
  {
   "cell_type": "code",
   "execution_count": 45,
   "id": "50cd98f6",
   "metadata": {},
   "outputs": [],
   "source": [
    "# from sklearn.model_selection import learning_curve\n",
    "\n",
    "# common_params = {\n",
    "#     \"X\": X,\n",
    "#     \"y\": y,\n",
    "#     \"train_sizes\": np.linspace(0.1, 1.0, 5),\n",
    "#     \"cv\": ShuffleSplit(n_splits=50, test_size=0.2, random_state=0),\n",
    "#     \"n_jobs\": 4,\n",
    "#     \"return_times\": True,\n",
    "# }\n",
    "# train_sizes, _, test_scores_svm, fit_times_svm, score_times_svm = learning_curve(\n",
    "#     clf, **common_params\n",
    "# )"
   ]
  },
  {
   "cell_type": "code",
   "execution_count": 46,
   "id": "abcca4e9",
   "metadata": {},
   "outputs": [],
   "source": [
    "# fig, ax = plt.subplots(nrows=2, ncols=2, figsize=(16, 12), sharex=True)\n",
    "\n",
    "# for ax_idx, (fit_times, score_times, estimator) in enumerate(\n",
    "#     zip(\n",
    "#         [fit_times_svm],\n",
    "#         [score_times_svm],\n",
    "#         [clf],\n",
    "#     )\n",
    "# ):\n",
    "#     # scalability regarding the fit time\n",
    "#     ax[0, ax_idx].plot(train_sizes, fit_times.mean(axis=1), \"o-\")\n",
    "#     ax[0, ax_idx].fill_between(\n",
    "#         train_sizes,\n",
    "#         fit_times.mean(axis=1) - fit_times.std(axis=1),\n",
    "#         fit_times.mean(axis=1) + fit_times.std(axis=1),\n",
    "#         alpha=0.3,\n",
    "#     )\n",
    "#     ax[0, ax_idx].set_ylabel(\"Fit time (s)\")\n",
    "#     ax[0, ax_idx].set_title(\n",
    "#         f\"Scalability of the {estimator.__class__.__name__} classifier\"\n",
    "#     )\n",
    "\n",
    "#     # scalability regarding the score time\n",
    "#     ax[1, ax_idx].plot(train_sizes, score_times.mean(axis=1), \"o-\")\n",
    "#     ax[1, ax_idx].fill_between(\n",
    "#         train_sizes,\n",
    "#         score_times.mean(axis=1) - score_times.std(axis=1),\n",
    "#         score_times.mean(axis=1) + score_times.std(axis=1),\n",
    "#         alpha=0.3,\n",
    "#     )\n",
    "#     ax[1, ax_idx].set_ylabel(\"Score time (s)\")\n",
    "#     ax[1, ax_idx].set_xlabel(\"Number of training samples\")"
   ]
  },
  {
   "cell_type": "code",
   "execution_count": 47,
   "id": "e623987e",
   "metadata": {},
   "outputs": [],
   "source": [
    "# def plot_svc_decision_function(clf, ax=None, plot_support=True):\n",
    "#     \"\"\"Plot the decision function for a 2D SVC\"\"\"\n",
    "#     if ax is None:\n",
    "#         ax = plt.gca()\n",
    "#     xlim = ax.get_xlim()\n",
    "#     ylim = ax.get_ylim()\n",
    "    \n",
    "#     # create grid to evaluate model\n",
    "#     x = np.linspace(xlim[0], xlim[1], 30)\n",
    "#     y = np.linspace(ylim[0], ylim[1], 30)\n",
    "#     Y, X = np.meshgrid(y, x)\n",
    "#     xy = np.vstack([X.ravel(), Y.ravel()]).T\n",
    "#     P = clf.decision_function(xy).reshape(X.shape)\n",
    "    \n",
    "#     # plot decision boundary and margins\n",
    "#     ax.contour(X, Y, P, colors='k',\n",
    "#                levels=[-1, 0, 1], alpha=0.5,\n",
    "#                linestyles=['--', '-', '--'])\n",
    "    \n",
    "#     # plot support vectors\n",
    "#     if plot_support:\n",
    "#         ax.scatter(clf.support_vectors_[:, 0],\n",
    "#                    clf.support_vectors_[:, 1],\n",
    "#                    s=300, linewidth=1, facecolors='none');\n",
    "#     ax.set_xlim(xlim)\n",
    "#     ax.set_ylim(ylim)"
   ]
  },
  {
   "cell_type": "code",
   "execution_count": 48,
   "id": "6ed087ec",
   "metadata": {},
   "outputs": [],
   "source": [
    "# from sklearn.datasets import make_blobs\n",
    "# from sklearn.datasets import make_circles\n",
    "# # from sklearn.datasets.samples_generator import make_circles\n",
    "# X, y = make_circles(100, factor=.1, noise=.1)\n",
    "\n",
    "# clf = SVC(kernel='linear').fit(X, y)\n",
    "\n",
    "# plt.scatter(X[:, 0], X[:, 1], c=y, s=50, cmap='autumn')\n",
    "# plot_svc_decision_function(clf, plot_support=False);"
   ]
  },
  {
   "cell_type": "code",
   "execution_count": null,
   "id": "0566742d",
   "metadata": {},
   "outputs": [],
   "source": []
  }
 ],
 "metadata": {
  "colab": {
   "provenance": []
  },
  "kernelspec": {
   "display_name": "Python 3 (ipykernel)",
   "language": "python",
   "name": "python3"
  },
  "language_info": {
   "codemirror_mode": {
    "name": "ipython",
    "version": 3
   },
   "file_extension": ".py",
   "mimetype": "text/x-python",
   "name": "python",
   "nbconvert_exporter": "python",
   "pygments_lexer": "ipython3",
   "version": "3.8.16"
  }
 },
 "nbformat": 4,
 "nbformat_minor": 5
}
