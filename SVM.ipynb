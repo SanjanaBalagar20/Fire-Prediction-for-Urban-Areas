{
 "cells": [
  {
   "cell_type": "code",
   "execution_count": 1,
   "id": "ff7efb42",
   "metadata": {
    "colab": {
     "base_uri": "https://localhost:8080/"
    },
    "executionInfo": {
     "elapsed": 48423,
     "status": "ok",
     "timestamp": 1681682323669,
     "user": {
      "displayName": "Meishan Fan",
      "userId": "14900579168546048834"
     },
     "user_tz": 420
    },
    "id": "ff7efb42",
    "outputId": "f6ea299f-ff7c-4901-94ea-d34e072c3b65"
   },
   "outputs": [],
   "source": [
    "from imblearn.over_sampling import SMOTE\n",
    "from collections import Counter\n",
    "\n",
    "import numpy as np\n",
    "import pandas as pd\n",
    "\n",
    "import math\n",
    "\n",
    "from datetime import datetime\n",
    "\n",
    "from sklearn.preprocessing import StandardScaler, Normalizer\n",
    "from sklearn.preprocessing import MinMaxScaler\n",
    "\n",
    "from sklearn.model_selection import train_test_split\n",
    "from sklearn.preprocessing import LabelEncoder, LabelBinarizer\n",
    "\n",
    "from sklearn.svm import SVC\n",
    "\n",
    "from sklearn.metrics import accuracy_score, precision_recall_fscore_support, f1_score, log_loss, recall_score\n",
    "from sklearn.metrics import confusion_matrix, ConfusionMatrixDisplay, classification_report\n",
    "from sklearn.metrics import roc_curve, auc, roc_auc_score, RocCurveDisplay\n",
    "\n",
    "from sklearn.model_selection import RepeatedStratifiedKFold\n",
    "from sklearn.model_selection import GridSearchCV\n",
    "\n",
    "from itertools import cycle\n",
    "import scikitplot as skplt\n",
    "\n",
    "# import statsmodels.api as sm\n",
    "\n",
    "import matplotlib.pyplot as plt\n",
    "import seaborn as sns\n",
    "\n",
    "import re\n",
    "\n",
    "from functools import reduce\n",
    "\n",
    "# from google.colab import drive  \n",
    "# drive.mount('/content/drive')\n"
   ]
  },
  {
   "cell_type": "code",
   "execution_count": 2,
   "id": "DB3IhEQZdAFi",
   "metadata": {
    "colab": {
     "base_uri": "https://localhost:8080/"
    },
    "executionInfo": {
     "elapsed": 2269,
     "status": "ok",
     "timestamp": 1681682325931,
     "user": {
      "displayName": "Meishan Fan",
      "userId": "14900579168546048834"
     },
     "user_tz": 420
    },
    "id": "DB3IhEQZdAFi",
    "outputId": "bcd279cc-8d08-48dc-9a68-ab29c72476b4"
   },
   "outputs": [],
   "source": [
    "# directory_298b = \"\"\"/content/drive/MyDrive/SJSU/DATA 298/Data_298/Data_298b/Data/\"\"\"\n",
    "\n",
    "# # directory_meishan = \"\"\"/content/drive/MyDrive/SJSU/DATA 298/Data_298/meishan's notes/data/ndvi/\"\"\"\n",
    "\n",
    "\n",
    "# !ls \"\"\"/content/drive/MyDrive/SJSU/DATA 298/Data_298/Data_298b/Data/\"\"\""
   ]
  },
  {
   "cell_type": "code",
   "execution_count": 3,
   "id": "a5795c2d",
   "metadata": {
    "colab": {
     "base_uri": "https://localhost:8080/",
     "height": 438
    },
    "executionInfo": {
     "elapsed": 8,
     "status": "ok",
     "timestamp": 1681682325931,
     "user": {
      "displayName": "Meishan Fan",
      "userId": "14900579168546048834"
     },
     "user_tz": 420
    },
    "id": "a5795c2d",
    "outputId": "d4f39ec5-e571-49c6-cdce-689df21703d5"
   },
   "outputs": [
    {
     "data": {
      "text/html": [
       "<div>\n",
       "<style scoped>\n",
       "    .dataframe tbody tr th:only-of-type {\n",
       "        vertical-align: middle;\n",
       "    }\n",
       "\n",
       "    .dataframe tbody tr th {\n",
       "        vertical-align: top;\n",
       "    }\n",
       "\n",
       "    .dataframe thead th {\n",
       "        text-align: right;\n",
       "    }\n",
       "</style>\n",
       "<table border=\"1\" class=\"dataframe\">\n",
       "  <thead>\n",
       "    <tr style=\"text-align: right;\">\n",
       "      <th></th>\n",
       "      <th>INCIDENT_NO</th>\n",
       "      <th>LONGITUDE</th>\n",
       "      <th>LATITUDE</th>\n",
       "      <th>DAY</th>\n",
       "      <th>MONTH</th>\n",
       "      <th>YEAR</th>\n",
       "      <th>DATE</th>\n",
       "      <th>ZONING_CATEGORIES</th>\n",
       "      <th>HOUSES WITHIN 100 METER</th>\n",
       "      <th>HOUSES WITHIN 200 METER</th>\n",
       "      <th>...</th>\n",
       "      <th>TMAX</th>\n",
       "      <th>TMIN</th>\n",
       "      <th>AWND</th>\n",
       "      <th>WDF2</th>\n",
       "      <th>WDF5</th>\n",
       "      <th>WSF2</th>\n",
       "      <th>WSF5</th>\n",
       "      <th>NEW_NDVI_VALUE</th>\n",
       "      <th>NEW_NEW_NDVI_VALUE</th>\n",
       "      <th>FIRE_ALARM</th>\n",
       "    </tr>\n",
       "  </thead>\n",
       "  <tbody>\n",
       "    <tr>\n",
       "      <th>0</th>\n",
       "      <td>F212819105</td>\n",
       "      <td>-121.848353</td>\n",
       "      <td>37.335873</td>\n",
       "      <td>8</td>\n",
       "      <td>10</td>\n",
       "      <td>2021</td>\n",
       "      <td>10/8/2021</td>\n",
       "      <td>Road</td>\n",
       "      <td>0</td>\n",
       "      <td>28</td>\n",
       "      <td>...</td>\n",
       "      <td>68.0</td>\n",
       "      <td>53.0</td>\n",
       "      <td>7.83</td>\n",
       "      <td>310</td>\n",
       "      <td>320.0</td>\n",
       "      <td>19.9</td>\n",
       "      <td>25.1</td>\n",
       "      <td>136</td>\n",
       "      <td>227</td>\n",
       "      <td>1</td>\n",
       "    </tr>\n",
       "    <tr>\n",
       "      <th>1</th>\n",
       "      <td>F190319157</td>\n",
       "      <td>-121.899981</td>\n",
       "      <td>37.323275</td>\n",
       "      <td>31</td>\n",
       "      <td>1</td>\n",
       "      <td>2019</td>\n",
       "      <td>1/31/2019</td>\n",
       "      <td>Development</td>\n",
       "      <td>64</td>\n",
       "      <td>316</td>\n",
       "      <td>...</td>\n",
       "      <td>63.0</td>\n",
       "      <td>50.0</td>\n",
       "      <td>4.03</td>\n",
       "      <td>200</td>\n",
       "      <td>210.0</td>\n",
       "      <td>15.0</td>\n",
       "      <td>19.0</td>\n",
       "      <td>109</td>\n",
       "      <td>211</td>\n",
       "      <td>1</td>\n",
       "    </tr>\n",
       "    <tr>\n",
       "      <th>2</th>\n",
       "      <td>F192929250</td>\n",
       "      <td>-121.836634</td>\n",
       "      <td>37.241583</td>\n",
       "      <td>19</td>\n",
       "      <td>10</td>\n",
       "      <td>2019</td>\n",
       "      <td>10/19/2019</td>\n",
       "      <td>Residential</td>\n",
       "      <td>42</td>\n",
       "      <td>114</td>\n",
       "      <td>...</td>\n",
       "      <td>73.0</td>\n",
       "      <td>46.0</td>\n",
       "      <td>5.37</td>\n",
       "      <td>350</td>\n",
       "      <td>330.0</td>\n",
       "      <td>14.1</td>\n",
       "      <td>18.1</td>\n",
       "      <td>151</td>\n",
       "      <td>72</td>\n",
       "      <td>3</td>\n",
       "    </tr>\n",
       "    <tr>\n",
       "      <th>3</th>\n",
       "      <td>F201419161</td>\n",
       "      <td>-121.865745</td>\n",
       "      <td>37.326272</td>\n",
       "      <td>20</td>\n",
       "      <td>5</td>\n",
       "      <td>2020</td>\n",
       "      <td>5/20/2020</td>\n",
       "      <td>Road</td>\n",
       "      <td>16</td>\n",
       "      <td>221</td>\n",
       "      <td>...</td>\n",
       "      <td>72.0</td>\n",
       "      <td>55.0</td>\n",
       "      <td>8.28</td>\n",
       "      <td>330</td>\n",
       "      <td>360.0</td>\n",
       "      <td>19.9</td>\n",
       "      <td>23.9</td>\n",
       "      <td>136</td>\n",
       "      <td>109</td>\n",
       "      <td>2</td>\n",
       "    </tr>\n",
       "    <tr>\n",
       "      <th>4</th>\n",
       "      <td>F212399344</td>\n",
       "      <td>-121.862220</td>\n",
       "      <td>37.374614</td>\n",
       "      <td>27</td>\n",
       "      <td>8</td>\n",
       "      <td>2021</td>\n",
       "      <td>8/27/2021</td>\n",
       "      <td>Road</td>\n",
       "      <td>11</td>\n",
       "      <td>41</td>\n",
       "      <td>...</td>\n",
       "      <td>92.0</td>\n",
       "      <td>59.0</td>\n",
       "      <td>4.25</td>\n",
       "      <td>320</td>\n",
       "      <td>320.0</td>\n",
       "      <td>17.0</td>\n",
       "      <td>21.0</td>\n",
       "      <td>82</td>\n",
       "      <td>151</td>\n",
       "      <td>1</td>\n",
       "    </tr>\n",
       "  </tbody>\n",
       "</table>\n",
       "<p>5 rows × 22 columns</p>\n",
       "</div>"
      ],
      "text/plain": [
       "  INCIDENT_NO   LONGITUDE   LATITUDE  DAY  MONTH  YEAR        DATE  \\\n",
       "0  F212819105 -121.848353  37.335873    8     10  2021   10/8/2021   \n",
       "1  F190319157 -121.899981  37.323275   31      1  2019   1/31/2019   \n",
       "2  F192929250 -121.836634  37.241583   19     10  2019  10/19/2019   \n",
       "3  F201419161 -121.865745  37.326272   20      5  2020   5/20/2020   \n",
       "4  F212399344 -121.862220  37.374614   27      8  2021   8/27/2021   \n",
       "\n",
       "  ZONING_CATEGORIES  HOUSES WITHIN 100 METER  HOUSES WITHIN 200 METER  ...  \\\n",
       "0              Road                        0                       28  ...   \n",
       "1       Development                       64                      316  ...   \n",
       "2       Residential                       42                      114  ...   \n",
       "3              Road                       16                      221  ...   \n",
       "4              Road                       11                       41  ...   \n",
       "\n",
       "   TMAX  TMIN  AWND  WDF2   WDF5  WSF2  WSF5  NEW_NDVI_VALUE  \\\n",
       "0  68.0  53.0  7.83   310  320.0  19.9  25.1             136   \n",
       "1  63.0  50.0  4.03   200  210.0  15.0  19.0             109   \n",
       "2  73.0  46.0  5.37   350  330.0  14.1  18.1             151   \n",
       "3  72.0  55.0  8.28   330  360.0  19.9  23.9             136   \n",
       "4  92.0  59.0  4.25   320  320.0  17.0  21.0              82   \n",
       "\n",
       "   NEW_NEW_NDVI_VALUE  FIRE_ALARM  \n",
       "0                 227           1  \n",
       "1                 211           1  \n",
       "2                  72           3  \n",
       "3                 109           2  \n",
       "4                 151           1  \n",
       "\n",
       "[5 rows x 22 columns]"
      ]
     },
     "execution_count": 3,
     "metadata": {},
     "output_type": "execute_result"
    }
   ],
   "source": [
    "#load datasets\n",
    "# df = pd.read_csv(directory_298b + 'data_for_modeling_balanced_data_v2_with_unit_count.csv')\n",
    "df = pd.read_csv('data_for_modeling_balanced_data_v4_v4_6zonings.csv')\n",
    "df.head()"
   ]
  },
  {
   "cell_type": "code",
   "execution_count": 4,
   "id": "5510a38f",
   "metadata": {},
   "outputs": [
    {
     "data": {
      "text/plain": [
       "Index(['INCIDENT_NO', 'LONGITUDE', 'LATITUDE', 'DAY', 'MONTH', 'YEAR', 'DATE',\n",
       "       'ZONING_CATEGORIES', 'HOUSES WITHIN 100 METER',\n",
       "       'HOUSES WITHIN 200 METER', 'OLD_NDVI_VALUE', 'PRCP', 'TMAX', 'TMIN',\n",
       "       'AWND', 'WDF2', 'WDF5', 'WSF2', 'WSF5', 'NEW_NDVI_VALUE',\n",
       "       'NEW_NEW_NDVI_VALUE', 'FIRE_ALARM'],\n",
       "      dtype='object')"
      ]
     },
     "execution_count": 4,
     "metadata": {},
     "output_type": "execute_result"
    }
   ],
   "source": [
    "df.columns"
   ]
  },
  {
   "cell_type": "code",
   "execution_count": 5,
   "id": "5kc97u_vgAgu",
   "metadata": {
    "executionInfo": {
     "elapsed": 224,
     "status": "ok",
     "timestamp": 1681682357738,
     "user": {
      "displayName": "Meishan Fan",
      "userId": "14900579168546048834"
     },
     "user_tz": 420
    },
    "id": "5kc97u_vgAgu"
   },
   "outputs": [],
   "source": [
    "class_le = LabelEncoder()\n",
    "df['ZONING'] = class_le.fit_transform(df.ZONING_CATEGORIES)"
   ]
  },
  {
   "cell_type": "code",
   "execution_count": 6,
   "id": "H4Orvgf_VyQL",
   "metadata": {
    "colab": {
     "base_uri": "https://localhost:8080/"
    },
    "executionInfo": {
     "elapsed": 3,
     "status": "ok",
     "timestamp": 1681682357937,
     "user": {
      "displayName": "Meishan Fan",
      "userId": "14900579168546048834"
     },
     "user_tz": 420
    },
    "id": "H4Orvgf_VyQL",
    "outputId": "b36cc4c1-8376-43de-9d2d-2ac59601b6bd"
   },
   "outputs": [
    {
     "data": {
      "text/plain": [
       "1    4806\n",
       "2    1426\n",
       "3     962\n",
       "Name: FIRE_ALARM, dtype: int64"
      ]
     },
     "execution_count": 6,
     "metadata": {},
     "output_type": "execute_result"
    }
   ],
   "source": [
    "df.FIRE_ALARM.value_counts()"
   ]
  },
  {
   "cell_type": "code",
   "execution_count": 7,
   "id": "ac94d7f4",
   "metadata": {
    "executionInfo": {
     "elapsed": 2,
     "status": "ok",
     "timestamp": 1681682358153,
     "user": {
      "displayName": "Meishan Fan",
      "userId": "14900579168546048834"
     },
     "user_tz": 420
    },
    "id": "ac94d7f4"
   },
   "outputs": [],
   "source": [
    "# df[\"FIRE_ALARM\"] = df.FIRE_ALARM.replace(3, 2)"
   ]
  },
  {
   "cell_type": "code",
   "execution_count": 8,
   "id": "896ccc64",
   "metadata": {
    "colab": {
     "base_uri": "https://localhost:8080/"
    },
    "executionInfo": {
     "elapsed": 185,
     "status": "ok",
     "timestamp": 1681682368023,
     "user": {
      "displayName": "Meishan Fan",
      "userId": "14900579168546048834"
     },
     "user_tz": 420
    },
    "id": "896ccc64",
    "outputId": "860f6d93-da94-423d-e62c-13bb6418c983"
   },
   "outputs": [
    {
     "data": {
      "text/plain": [
       "array([[ 0.37401759,  0.30240938,  1.08271881, ...,  0.62212827,\n",
       "         0.58208317,  0.86920972],\n",
       "       [-0.68487198,  0.01775024, -1.69490667, ..., -0.47925131,\n",
       "        -0.43255201, -1.42718938],\n",
       "       [ 0.61437412, -1.82812809,  1.08271881, ..., -0.68154552,\n",
       "        -0.58225228,  0.29510995],\n",
       "       ...,\n",
       "       [ 0.64413411,  1.61390218,  0.77409375, ...,  0.62212827,\n",
       "         0.23278253, -0.27898983],\n",
       "       [-0.48332035,  0.31786476,  0.77409375, ...,  0.62212827,\n",
       "         0.23278253, -2.00128915],\n",
       "       [ 0.30018164, -1.34898876,  0.77409375, ...,  0.86937675,\n",
       "         0.38248281,  0.29510995]])"
      ]
     },
     "execution_count": 8,
     "metadata": {},
     "output_type": "execute_result"
    }
   ],
   "source": [
    "X = df.drop([\"FIRE_ALARM\", \"INCIDENT_NO\", \"DATE\", \"DAY\", \"ZONING_CATEGORIES\", \"NEW_NEW_NDVI_VALUE\",\"NEW_NDVI_VALUE\"], axis = 1)\n",
    "y = df[\"FIRE_ALARM\"]\n",
    "\n",
    "scaler = StandardScaler()\n",
    "scaled_X = scaler.fit_transform(X)\n",
    "scaled_X"
   ]
  },
  {
   "cell_type": "code",
   "execution_count": 9,
   "id": "4jqATgKLdcBE",
   "metadata": {
    "executionInfo": {
     "elapsed": 2,
     "status": "ok",
     "timestamp": 1681682369310,
     "user": {
      "displayName": "Meishan Fan",
      "userId": "14900579168546048834"
     },
     "user_tz": 420
    },
    "id": "4jqATgKLdcBE"
   },
   "outputs": [],
   "source": [
    "X_train, X_test, y_train, y_test = train_test_split(scaled_X, y, test_size=0.3, random_state=42)"
   ]
  },
  {
   "cell_type": "code",
   "execution_count": 10,
   "id": "8b3c8f4b",
   "metadata": {
    "colab": {
     "base_uri": "https://localhost:8080/",
     "height": 910
    },
    "executionInfo": {
     "elapsed": 4832,
     "status": "ok",
     "timestamp": 1681682374913,
     "user": {
      "displayName": "Meishan Fan",
      "userId": "14900579168546048834"
     },
     "user_tz": 420
    },
    "id": "8b3c8f4b",
    "outputId": "aed38335-30cd-4c6c-f5a9-b092a5d3604e"
   },
   "outputs": [
    {
     "name": "stdout",
     "output_type": "stream",
     "text": [
      "[[1432    0   19]\n",
      " [ 405    0   14]\n",
      " [ 250    0   39]]\n",
      "Accuracy Score 0.6813339509031959\n",
      "Classification reportL              precision    recall  f1-score   support\n",
      "\n",
      "           1       0.69      0.99      0.81      1451\n",
      "           2       0.00      0.00      0.00       419\n",
      "           3       0.54      0.13      0.22       289\n",
      "\n",
      "    accuracy                           0.68      2159\n",
      "   macro avg       0.41      0.37      0.34      2159\n",
      "weighted avg       0.53      0.68      0.57      2159\n",
      "\n",
      "              precision    recall  f1-score   support\n",
      "\n",
      "           1     0.6862    0.9869    0.8095      1451\n",
      "           2     0.0000    0.0000    0.0000       419\n",
      "           3     0.5417    0.1349    0.2161       289\n",
      "\n",
      "    accuracy                         0.6813      2159\n",
      "   macro avg     0.4093    0.3740    0.3419      2159\n",
      "weighted avg     0.5336    0.6813    0.5730      2159\n",
      "\n"
     ]
    },
    {
     "name": "stderr",
     "output_type": "stream",
     "text": [
      "C:\\Users\\sanja\\anaconda3\\lib\\site-packages\\sklearn\\metrics\\_classification.py:1344: UndefinedMetricWarning: Precision and F-score are ill-defined and being set to 0.0 in labels with no predicted samples. Use `zero_division` parameter to control this behavior.\n",
      "  _warn_prf(average, modifier, msg_start, len(result))\n",
      "C:\\Users\\sanja\\anaconda3\\lib\\site-packages\\sklearn\\metrics\\_classification.py:1344: UndefinedMetricWarning: Precision and F-score are ill-defined and being set to 0.0 in labels with no predicted samples. Use `zero_division` parameter to control this behavior.\n",
      "  _warn_prf(average, modifier, msg_start, len(result))\n",
      "C:\\Users\\sanja\\anaconda3\\lib\\site-packages\\sklearn\\metrics\\_classification.py:1344: UndefinedMetricWarning: Precision and F-score are ill-defined and being set to 0.0 in labels with no predicted samples. Use `zero_division` parameter to control this behavior.\n",
      "  _warn_prf(average, modifier, msg_start, len(result))\n",
      "C:\\Users\\sanja\\anaconda3\\lib\\site-packages\\sklearn\\metrics\\_classification.py:1344: UndefinedMetricWarning: Precision and F-score are ill-defined and being set to 0.0 in labels with no predicted samples. Use `zero_division` parameter to control this behavior.\n",
      "  _warn_prf(average, modifier, msg_start, len(result))\n",
      "C:\\Users\\sanja\\anaconda3\\lib\\site-packages\\sklearn\\metrics\\_classification.py:1344: UndefinedMetricWarning: Precision and F-score are ill-defined and being set to 0.0 in labels with no predicted samples. Use `zero_division` parameter to control this behavior.\n",
      "  _warn_prf(average, modifier, msg_start, len(result))\n",
      "C:\\Users\\sanja\\anaconda3\\lib\\site-packages\\sklearn\\metrics\\_classification.py:1344: UndefinedMetricWarning: Precision and F-score are ill-defined and being set to 0.0 in labels with no predicted samples. Use `zero_division` parameter to control this behavior.\n",
      "  _warn_prf(average, modifier, msg_start, len(result))\n"
     ]
    },
    {
     "data": {
      "text/plain": [
       "<sklearn.metrics._plot.confusion_matrix.ConfusionMatrixDisplay at 0x1deb7d75550>"
      ]
     },
     "execution_count": 10,
     "metadata": {},
     "output_type": "execute_result"
    },
    {
     "data": {
      "image/png": "[encoded data removed]",
      "text/plain": [
       "<Figure size 640x480 with 2 Axes>"
      ]
     },
     "metadata": {},
     "output_type": "display_data"
    }
   ],
   "source": [
    "clf = SVC(kernel='linear')\n",
    "clf.fit(X_train,y_train)\n",
    "y_pred = clf.predict(X_test)\n",
    "\n",
    "print(confusion_matrix(y_test,y_pred))\n",
    "print('Accuracy Score {}'.format(accuracy_score(y_test,y_pred)))\n",
    "print('Classification reportL{}'.format(classification_report(y_test,y_pred)))\n",
    "\n",
    "print(classification_report(y_test, y_pred, digits = 4))\n",
    "ConfusionMatrixDisplay.from_estimator(clf, X_test, y_test)"
   ]
  },
  {
   "cell_type": "markdown",
   "id": "9Mm_ZxGTa9sX",
   "metadata": {
    "id": "9Mm_ZxGTa9sX"
   },
   "source": [
    "### hyperparameters tuning"
   ]
  },
  {
   "cell_type": "code",
   "execution_count": 11,
   "id": "3BYdWMYaXLvo",
   "metadata": {
    "colab": {
     "base_uri": "https://localhost:8080/",
     "height": 118
    },
    "executionInfo": {
     "elapsed": 20,
     "status": "ok",
     "timestamp": 1681682374913,
     "user": {
      "displayName": "Meishan Fan",
      "userId": "14900579168546048834"
     },
     "user_tz": 420
    },
    "id": "3BYdWMYaXLvo",
    "outputId": "d6937028-c8d5-4f6f-bc6d-e0d2c4bd18dc"
   },
   "outputs": [
    {
     "data": {
      "text/html": [
       "<style>#sk-container-id-1 {color: black;background-color: white;}#sk-container-id-1 pre{padding: 0;}#sk-container-id-1 div.sk-toggleable {background-color: white;}#sk-container-id-1 label.sk-toggleable__label {cursor: pointer;display: block;width: 100%;margin-bottom: 0;padding: 0.3em;box-sizing: border-box;text-align: center;}#sk-container-id-1 label.sk-toggleable__label-arrow:before {content: \"▸\";float: left;margin-right: 0.25em;color: #696969;}#sk-container-id-1 label.sk-toggleable__label-arrow:hover:before {color: black;}#sk-container-id-1 div.sk-estimator:hover label.sk-toggleable__label-arrow:before {color: black;}#sk-container-id-1 div.sk-toggleable__content {max-height: 0;max-width: 0;overflow: hidden;text-align: left;background-color: #f0f8ff;}#sk-container-id-1 div.sk-toggleable__content pre {margin: 0.2em;color: black;border-radius: 0.25em;background-color: #f0f8ff;}#sk-container-id-1 input.sk-toggleable__control:checked~div.sk-toggleable__content {max-height: 200px;max-width: 100%;overflow: auto;}#sk-container-id-1 input.sk-toggleable__control:checked~label.sk-toggleable__label-arrow:before {content: \"▾\";}#sk-container-id-1 div.sk-estimator input.sk-toggleable__control:checked~label.sk-toggleable__label {background-color: #d4ebff;}#sk-container-id-1 div.sk-label input.sk-toggleable__control:checked~label.sk-toggleable__label {background-color: #d4ebff;}#sk-container-id-1 input.sk-hidden--visually {border: 0;clip: rect(1px 1px 1px 1px);clip: rect(1px, 1px, 1px, 1px);height: 1px;margin: -1px;overflow: hidden;padding: 0;position: absolute;width: 1px;}#sk-container-id-1 div.sk-estimator {font-family: monospace;background-color: #f0f8ff;border: 1px dotted black;border-radius: 0.25em;box-sizing: border-box;margin-bottom: 0.5em;}#sk-container-id-1 div.sk-estimator:hover {background-color: #d4ebff;}#sk-container-id-1 div.sk-parallel-item::after {content: \"\";width: 100%;border-bottom: 1px solid gray;flex-grow: 1;}#sk-container-id-1 div.sk-label:hover label.sk-toggleable__label {background-color: #d4ebff;}#sk-container-id-1 div.sk-serial::before {content: \"\";position: absolute;border-left: 1px solid gray;box-sizing: border-box;top: 0;bottom: 0;left: 50%;z-index: 0;}#sk-container-id-1 div.sk-serial {display: flex;flex-direction: column;align-items: center;background-color: white;padding-right: 0.2em;padding-left: 0.2em;position: relative;}#sk-container-id-1 div.sk-item {position: relative;z-index: 1;}#sk-container-id-1 div.sk-parallel {display: flex;align-items: stretch;justify-content: center;background-color: white;position: relative;}#sk-container-id-1 div.sk-item::before, #sk-container-id-1 div.sk-parallel-item::before {content: \"\";position: absolute;border-left: 1px solid gray;box-sizing: border-box;top: 0;bottom: 0;left: 50%;z-index: -1;}#sk-container-id-1 div.sk-parallel-item {display: flex;flex-direction: column;z-index: 1;position: relative;background-color: white;}#sk-container-id-1 div.sk-parallel-item:first-child::after {align-self: flex-end;width: 50%;}#sk-container-id-1 div.sk-parallel-item:last-child::after {align-self: flex-start;width: 50%;}#sk-container-id-1 div.sk-parallel-item:only-child::after {width: 0;}#sk-container-id-1 div.sk-dashed-wrapped {border: 1px dashed gray;margin: 0 0.4em 0.5em 0.4em;box-sizing: border-box;padding-bottom: 0.4em;background-color: white;}#sk-container-id-1 div.sk-label label {font-family: monospace;font-weight: bold;display: inline-block;line-height: 1.2em;}#sk-container-id-1 div.sk-label-container {text-align: center;}#sk-container-id-1 div.sk-container {/* jupyter's `normalize.less` sets `[hidden] { display: none; }` but bootstrap.min.css set `[hidden] { display: none !important; }` so we also need the `!important` here to be able to override the default hidden behavior on the sphinx rendered scikit-learn.org. See: https://github.com/scikit-learn/scikit-learn/issues/21755 */display: inline-block !important;position: relative;}#sk-container-id-1 div.sk-text-repr-fallback {display: none;}</style><div id=\"sk-container-id-1\" class=\"sk-top-container\"><div class=\"sk-text-repr-fallback\"><pre>GridSearchCV(cv=3, estimator=SVC(),\n",
       "             param_grid={&#x27;C&#x27;: [1, 10, 100], &#x27;gamma&#x27;: [1, 0.1],\n",
       "                         &#x27;kernel&#x27;: [&#x27;rbf&#x27;]},\n",
       "             verbose=2)</pre><b>In a Jupyter environment, please rerun this cell to show the HTML representation or trust the notebook. <br />On GitHub, the HTML representation is unable to render, please try loading this page with nbviewer.org.</b></div><div class=\"sk-container\" hidden><div class=\"sk-item sk-dashed-wrapped\"><div class=\"sk-label-container\"><div class=\"sk-label sk-toggleable\"><input class=\"sk-toggleable__control sk-hidden--visually\" id=\"sk-estimator-id-1\" type=\"checkbox\" ><label for=\"sk-estimator-id-1\" class=\"sk-toggleable__label sk-toggleable__label-arrow\">GridSearchCV</label><div class=\"sk-toggleable__content\"><pre>GridSearchCV(cv=3, estimator=SVC(),\n",
       "             param_grid={&#x27;C&#x27;: [1, 10, 100], &#x27;gamma&#x27;: [1, 0.1],\n",
       "                         &#x27;kernel&#x27;: [&#x27;rbf&#x27;]},\n",
       "             verbose=2)</pre></div></div></div><div class=\"sk-parallel\"><div class=\"sk-parallel-item\"><div class=\"sk-item\"><div class=\"sk-label-container\"><div class=\"sk-label sk-toggleable\"><input class=\"sk-toggleable__control sk-hidden--visually\" id=\"sk-estimator-id-2\" type=\"checkbox\" ><label for=\"sk-estimator-id-2\" class=\"sk-toggleable__label sk-toggleable__label-arrow\">estimator: SVC</label><div class=\"sk-toggleable__content\"><pre>SVC()</pre></div></div></div><div class=\"sk-serial\"><div class=\"sk-item\"><div class=\"sk-estimator sk-toggleable\"><input class=\"sk-toggleable__control sk-hidden--visually\" id=\"sk-estimator-id-3\" type=\"checkbox\" ><label for=\"sk-estimator-id-3\" class=\"sk-toggleable__label sk-toggleable__label-arrow\">SVC</label><div class=\"sk-toggleable__content\"><pre>SVC()</pre></div></div></div></div></div></div></div></div></div></div>"
      ],
      "text/plain": [
       "GridSearchCV(cv=3, estimator=SVC(),\n",
       "             param_grid={'C': [1, 10, 100], 'gamma': [1, 0.1],\n",
       "                         'kernel': ['rbf']},\n",
       "             verbose=2)"
      ]
     },
     "execution_count": 11,
     "metadata": {},
     "output_type": "execute_result"
    }
   ],
   "source": [
    "sc_param_grid = {'kernel': ['rbf'], \"C\": [1, 10,100], \"gamma\": [1,0.1]}\n",
    "sc_grid = GridSearchCV(estimator = SVC(), param_grid = sc_param_grid, refit = True, verbose = 2, cv = 3)\n",
    "sc_grid"
   ]
  },
  {
   "cell_type": "code",
   "execution_count": 12,
   "id": "8CltK9dlXN43",
   "metadata": {
    "colab": {
     "base_uri": "https://localhost:8080/",
     "height": 1000
    },
    "executionInfo": {
     "elapsed": 70644,
     "status": "ok",
     "timestamp": 1681682445539,
     "user": {
      "displayName": "Meishan Fan",
      "userId": "14900579168546048834"
     },
     "user_tz": 420
    },
    "id": "8CltK9dlXN43",
    "outputId": "f6b23a05-5909-4f9e-b2a9-496eedd50038"
   },
   "outputs": [
    {
     "name": "stdout",
     "output_type": "stream",
     "text": [
      "Fitting 3 folds for each of 6 candidates, totalling 18 fits\n",
      "[CV] END ...........................C=1, gamma=1, kernel=rbf; total time=   1.5s\n",
      "[CV] END ...........................C=1, gamma=1, kernel=rbf; total time=   1.6s\n",
      "[CV] END ...........................C=1, gamma=1, kernel=rbf; total time=   1.5s\n",
      "[CV] END .........................C=1, gamma=0.1, kernel=rbf; total time=   1.0s\n",
      "[CV] END .........................C=1, gamma=0.1, kernel=rbf; total time=   1.0s\n",
      "[CV] END .........................C=1, gamma=0.1, kernel=rbf; total time=   0.8s\n",
      "[CV] END ..........................C=10, gamma=1, kernel=rbf; total time=   1.6s\n",
      "[CV] END ..........................C=10, gamma=1, kernel=rbf; total time=   1.6s\n",
      "[CV] END ..........................C=10, gamma=1, kernel=rbf; total time=   1.6s\n",
      "[CV] END ........................C=10, gamma=0.1, kernel=rbf; total time=   1.2s\n",
      "[CV] END ........................C=10, gamma=0.1, kernel=rbf; total time=   1.3s\n",
      "[CV] END ........................C=10, gamma=0.1, kernel=rbf; total time=   1.1s\n",
      "[CV] END .........................C=100, gamma=1, kernel=rbf; total time=   1.5s\n",
      "[CV] END .........................C=100, gamma=1, kernel=rbf; total time=   1.9s\n",
      "[CV] END .........................C=100, gamma=1, kernel=rbf; total time=   1.8s\n",
      "[CV] END .......................C=100, gamma=0.1, kernel=rbf; total time=   1.6s\n",
      "[CV] END .......................C=100, gamma=0.1, kernel=rbf; total time=   1.7s\n",
      "[CV] END .......................C=100, gamma=0.1, kernel=rbf; total time=   1.8s\n"
     ]
    },
    {
     "data": {
      "text/html": [
       "<style>#sk-container-id-2 {color: black;background-color: white;}#sk-container-id-2 pre{padding: 0;}#sk-container-id-2 div.sk-toggleable {background-color: white;}#sk-container-id-2 label.sk-toggleable__label {cursor: pointer;display: block;width: 100%;margin-bottom: 0;padding: 0.3em;box-sizing: border-box;text-align: center;}#sk-container-id-2 label.sk-toggleable__label-arrow:before {content: \"▸\";float: left;margin-right: 0.25em;color: #696969;}#sk-container-id-2 label.sk-toggleable__label-arrow:hover:before {color: black;}#sk-container-id-2 div.sk-estimator:hover label.sk-toggleable__label-arrow:before {color: black;}#sk-container-id-2 div.sk-toggleable__content {max-height: 0;max-width: 0;overflow: hidden;text-align: left;background-color: #f0f8ff;}#sk-container-id-2 div.sk-toggleable__content pre {margin: 0.2em;color: black;border-radius: 0.25em;background-color: #f0f8ff;}#sk-container-id-2 input.sk-toggleable__control:checked~div.sk-toggleable__content {max-height: 200px;max-width: 100%;overflow: auto;}#sk-container-id-2 input.sk-toggleable__control:checked~label.sk-toggleable__label-arrow:before {content: \"▾\";}#sk-container-id-2 div.sk-estimator input.sk-toggleable__control:checked~label.sk-toggleable__label {background-color: #d4ebff;}#sk-container-id-2 div.sk-label input.sk-toggleable__control:checked~label.sk-toggleable__label {background-color: #d4ebff;}#sk-container-id-2 input.sk-hidden--visually {border: 0;clip: rect(1px 1px 1px 1px);clip: rect(1px, 1px, 1px, 1px);height: 1px;margin: -1px;overflow: hidden;padding: 0;position: absolute;width: 1px;}#sk-container-id-2 div.sk-estimator {font-family: monospace;background-color: #f0f8ff;border: 1px dotted black;border-radius: 0.25em;box-sizing: border-box;margin-bottom: 0.5em;}#sk-container-id-2 div.sk-estimator:hover {background-color: #d4ebff;}#sk-container-id-2 div.sk-parallel-item::after {content: \"\";width: 100%;border-bottom: 1px solid gray;flex-grow: 1;}#sk-container-id-2 div.sk-label:hover label.sk-toggleable__label {background-color: #d4ebff;}#sk-container-id-2 div.sk-serial::before {content: \"\";position: absolute;border-left: 1px solid gray;box-sizing: border-box;top: 0;bottom: 0;left: 50%;z-index: 0;}#sk-container-id-2 div.sk-serial {display: flex;flex-direction: column;align-items: center;background-color: white;padding-right: 0.2em;padding-left: 0.2em;position: relative;}#sk-container-id-2 div.sk-item {position: relative;z-index: 1;}#sk-container-id-2 div.sk-parallel {display: flex;align-items: stretch;justify-content: center;background-color: white;position: relative;}#sk-container-id-2 div.sk-item::before, #sk-container-id-2 div.sk-parallel-item::before {content: \"\";position: absolute;border-left: 1px solid gray;box-sizing: border-box;top: 0;bottom: 0;left: 50%;z-index: -1;}#sk-container-id-2 div.sk-parallel-item {display: flex;flex-direction: column;z-index: 1;position: relative;background-color: white;}#sk-container-id-2 div.sk-parallel-item:first-child::after {align-self: flex-end;width: 50%;}#sk-container-id-2 div.sk-parallel-item:last-child::after {align-self: flex-start;width: 50%;}#sk-container-id-2 div.sk-parallel-item:only-child::after {width: 0;}#sk-container-id-2 div.sk-dashed-wrapped {border: 1px dashed gray;margin: 0 0.4em 0.5em 0.4em;box-sizing: border-box;padding-bottom: 0.4em;background-color: white;}#sk-container-id-2 div.sk-label label {font-family: monospace;font-weight: bold;display: inline-block;line-height: 1.2em;}#sk-container-id-2 div.sk-label-container {text-align: center;}#sk-container-id-2 div.sk-container {/* jupyter's `normalize.less` sets `[hidden] { display: none; }` but bootstrap.min.css set `[hidden] { display: none !important; }` so we also need the `!important` here to be able to override the default hidden behavior on the sphinx rendered scikit-learn.org. See: https://github.com/scikit-learn/scikit-learn/issues/21755 */display: inline-block !important;position: relative;}#sk-container-id-2 div.sk-text-repr-fallback {display: none;}</style><div id=\"sk-container-id-2\" class=\"sk-top-container\"><div class=\"sk-text-repr-fallback\"><pre>GridSearchCV(cv=3, estimator=SVC(),\n",
       "             param_grid={&#x27;C&#x27;: [1, 10, 100], &#x27;gamma&#x27;: [1, 0.1],\n",
       "                         &#x27;kernel&#x27;: [&#x27;rbf&#x27;]},\n",
       "             verbose=2)</pre><b>In a Jupyter environment, please rerun this cell to show the HTML representation or trust the notebook. <br />On GitHub, the HTML representation is unable to render, please try loading this page with nbviewer.org.</b></div><div class=\"sk-container\" hidden><div class=\"sk-item sk-dashed-wrapped\"><div class=\"sk-label-container\"><div class=\"sk-label sk-toggleable\"><input class=\"sk-toggleable__control sk-hidden--visually\" id=\"sk-estimator-id-4\" type=\"checkbox\" ><label for=\"sk-estimator-id-4\" class=\"sk-toggleable__label sk-toggleable__label-arrow\">GridSearchCV</label><div class=\"sk-toggleable__content\"><pre>GridSearchCV(cv=3, estimator=SVC(),\n",
       "             param_grid={&#x27;C&#x27;: [1, 10, 100], &#x27;gamma&#x27;: [1, 0.1],\n",
       "                         &#x27;kernel&#x27;: [&#x27;rbf&#x27;]},\n",
       "             verbose=2)</pre></div></div></div><div class=\"sk-parallel\"><div class=\"sk-parallel-item\"><div class=\"sk-item\"><div class=\"sk-label-container\"><div class=\"sk-label sk-toggleable\"><input class=\"sk-toggleable__control sk-hidden--visually\" id=\"sk-estimator-id-5\" type=\"checkbox\" ><label for=\"sk-estimator-id-5\" class=\"sk-toggleable__label sk-toggleable__label-arrow\">estimator: SVC</label><div class=\"sk-toggleable__content\"><pre>SVC()</pre></div></div></div><div class=\"sk-serial\"><div class=\"sk-item\"><div class=\"sk-estimator sk-toggleable\"><input class=\"sk-toggleable__control sk-hidden--visually\" id=\"sk-estimator-id-6\" type=\"checkbox\" ><label for=\"sk-estimator-id-6\" class=\"sk-toggleable__label sk-toggleable__label-arrow\">SVC</label><div class=\"sk-toggleable__content\"><pre>SVC()</pre></div></div></div></div></div></div></div></div></div></div>"
      ],
      "text/plain": [
       "GridSearchCV(cv=3, estimator=SVC(),\n",
       "             param_grid={'C': [1, 10, 100], 'gamma': [1, 0.1],\n",
       "                         'kernel': ['rbf']},\n",
       "             verbose=2)"
      ]
     },
     "execution_count": 12,
     "metadata": {},
     "output_type": "execute_result"
    }
   ],
   "source": [
    "sc_grid.fit(X_train, y_train)"
   ]
  },
  {
   "cell_type": "code",
   "execution_count": 13,
   "id": "d6_ZcmCjXUUm",
   "metadata": {
    "colab": {
     "base_uri": "https://localhost:8080/"
    },
    "executionInfo": {
     "elapsed": 7,
     "status": "ok",
     "timestamp": 1681337375645,
     "user": {
      "displayName": "Meishan Fan",
      "userId": "14900579168546048834"
     },
     "user_tz": 420
    },
    "id": "d6_ZcmCjXUUm",
    "outputId": "150c530f-7c44-41c7-e4bf-b02f4e08bfd4"
   },
   "outputs": [
    {
     "data": {
      "text/plain": [
       "{'C': 1, 'gamma': 0.1, 'kernel': 'rbf'}"
      ]
     },
     "execution_count": 13,
     "metadata": {},
     "output_type": "execute_result"
    }
   ],
   "source": [
    "sc_grid.best_params_"
   ]
  },
  {
   "cell_type": "code",
   "execution_count": 14,
   "id": "h9IwAZPzXU0V",
   "metadata": {
    "colab": {
     "base_uri": "https://localhost:8080/"
    },
    "executionInfo": {
     "elapsed": 5,
     "status": "ok",
     "timestamp": 1681337375645,
     "user": {
      "displayName": "Meishan Fan",
      "userId": "14900579168546048834"
     },
     "user_tz": 420
    },
    "id": "h9IwAZPzXU0V",
    "outputId": "6b4083f5-1f7e-4bf6-f45e-6f417dd977aa"
   },
   "outputs": [
    {
     "data": {
      "text/plain": [
       "0.6907639131925539"
      ]
     },
     "execution_count": 14,
     "metadata": {},
     "output_type": "execute_result"
    }
   ],
   "source": [
    "sc_grid.best_score_"
   ]
  },
  {
   "cell_type": "code",
   "execution_count": 15,
   "id": "6WUfoV-fXU18",
   "metadata": {
    "colab": {
     "base_uri": "https://localhost:8080/",
     "height": 910
    },
    "executionInfo": {
     "elapsed": 2882,
     "status": "ok",
     "timestamp": 1681337378524,
     "user": {
      "displayName": "Meishan Fan",
      "userId": "14900579168546048834"
     },
     "user_tz": 420
    },
    "id": "6WUfoV-fXU18",
    "outputId": "18efa1c3-c051-4b58-9d6d-9695b120851a"
   },
   "outputs": [
    {
     "name": "stdout",
     "output_type": "stream",
     "text": [
      "[[1389   30   32]\n",
      " [ 362   44   13]\n",
      " [ 213   29   47]]\n",
      "Accuracy Score 0.6855025474756832\n",
      "Classification reportL              precision    recall  f1-score   support\n",
      "\n",
      "           1       0.71      0.96      0.81      1451\n",
      "           2       0.43      0.11      0.17       419\n",
      "           3       0.51      0.16      0.25       289\n",
      "\n",
      "    accuracy                           0.69      2159\n",
      "   macro avg       0.55      0.41      0.41      2159\n",
      "weighted avg       0.63      0.69      0.61      2159\n",
      "\n",
      "              precision    recall  f1-score   support\n",
      "\n",
      "           1     0.7072    0.9573    0.8135      1451\n",
      "           2     0.4272    0.1050    0.1686       419\n",
      "           3     0.5109    0.1626    0.2467       289\n",
      "\n",
      "    accuracy                         0.6855      2159\n",
      "   macro avg     0.5484    0.4083    0.4096      2159\n",
      "weighted avg     0.6266    0.6855    0.6125      2159\n",
      "\n"
     ]
    },
    {
     "data": {
      "image/png": "[encoded data removed]",
      "text/plain": [
       "<Figure size 640x480 with 2 Axes>"
      ]
     },
     "metadata": {},
     "output_type": "display_data"
    }
   ],
   "source": [
    "clf = SVC(kernel=sc_grid.best_params_['kernel'], C = sc_grid.best_params_[\"C\"], gamma = sc_grid.best_params_['gamma'])\n",
    "clf.fit(X_train,y_train)\n",
    "y_pred = clf.predict(X_test)\n",
    "\n",
    "print(confusion_matrix(y_test,y_pred))\n",
    "print('Accuracy Score {}'.format(accuracy_score(y_test,y_pred)))\n",
    "print('Classification reportL{}'.format(classification_report(y_test,y_pred)))\n",
    "ConfusionMatrixDisplay.from_estimator(clf, X_test, y_test)\n",
    "print(classification_report(y_test, y_pred, digits = 4))\n"
   ]
  },
  {
   "cell_type": "code",
   "execution_count": 16,
   "id": "664fec23",
   "metadata": {},
   "outputs": [],
   "source": [
    "# import matplotlib.pyplot as plt\n",
    "# import numpy as np\n",
    "# from sklearn.model_selection import LearningCurveDisplay, ShuffleSplit"
   ]
  },
  {
   "cell_type": "code",
   "execution_count": 17,
   "id": "aaeaee8d",
   "metadata": {},
   "outputs": [],
   "source": [
    "# fig, ax = plt.subplots(nrows=1, ncols=2, figsize=(10,6), sharey=True)\n",
    "\n",
    "# common_params = {\n",
    "#     \"X\": X,\n",
    "#     \"y\": y,\n",
    "#     \"train_sizes\": np.linspace(0.1, 1.0, 5),\n",
    "#     \"cv\": ShuffleSplit(n_splits=50, test_size=0.3, random_state=0),\n",
    "#     \"score_type\": \"both\",\n",
    "#     \"n_jobs\": 4,\n",
    "#     \"line_kw\": {\"marker\": \"o\"},\n",
    "#     \"std_display_style\": \"fill_between\",\n",
    "#     \"score_name\": \"Accuracy\",\n",
    "# }\n",
    "\n",
    "# for ax_idx, estimator in enumerate([clf]):\n",
    "#     LearningCurveDisplay.from_estimator(estimator, **common_params, ax=ax[ax_idx])\n",
    "#     handles, label = ax[ax_idx].get_legend_handles_labels()\n",
    "#     ax[ax_idx].legend(handles[:2], [\"Training Score\", \"Test Score\"])\n",
    "#     ax[ax_idx].set_title(f\"Learning Curve for {estimator.__class__.__name__}\")"
   ]
  },
  {
   "cell_type": "code",
   "execution_count": 18,
   "id": "864f523f",
   "metadata": {},
   "outputs": [],
   "source": [
    "# from sklearn.model_selection import learning_curve\n",
    "\n",
    "# common_params = {\n",
    "#     \"X\": X,\n",
    "#     \"y\": y,\n",
    "#     \"train_sizes\": np.linspace(0.1, 1.0, 5),\n",
    "#     \"cv\": ShuffleSplit(n_splits=50, test_size=0.2, random_state=0),\n",
    "#     \"n_jobs\": 4,\n",
    "#     \"return_times\": True,\n",
    "# }\n",
    "# train_sizes, _, test_scores_svm, fit_times_svm, score_times_svm = learning_curve(\n",
    "#     clf, **common_params\n",
    "# )"
   ]
  },
  {
   "cell_type": "code",
   "execution_count": 19,
   "id": "3819f978",
   "metadata": {},
   "outputs": [],
   "source": [
    "# fig, ax = plt.subplots(nrows=2, ncols=2, figsize=(16, 12), sharex=True)\n",
    "\n",
    "# for ax_idx, (fit_times, score_times, estimator) in enumerate(\n",
    "#     zip(\n",
    "#         [fit_times_svm],\n",
    "#         [score_times_svm],\n",
    "#         [clf],\n",
    "#     )\n",
    "# ):\n",
    "#     # scalability regarding the fit time\n",
    "#     ax[0, ax_idx].plot(train_sizes, fit_times.mean(axis=1), \"o-\")\n",
    "#     ax[0, ax_idx].fill_between(\n",
    "#         train_sizes,\n",
    "#         fit_times.mean(axis=1) - fit_times.std(axis=1),\n",
    "#         fit_times.mean(axis=1) + fit_times.std(axis=1),\n",
    "#         alpha=0.3,\n",
    "#     )\n",
    "#     ax[0, ax_idx].set_ylabel(\"Fit time (s)\")\n",
    "#     ax[0, ax_idx].set_title(\n",
    "#         f\"Scalability of the {estimator.__class__.__name__} classifier\"\n",
    "#     )\n",
    "\n",
    "#     # scalability regarding the score time\n",
    "#     ax[1, ax_idx].plot(train_sizes, score_times.mean(axis=1), \"o-\")\n",
    "#     ax[1, ax_idx].fill_between(\n",
    "#         train_sizes,\n",
    "#         score_times.mean(axis=1) - score_times.std(axis=1),\n",
    "#         score_times.mean(axis=1) + score_times.std(axis=1),\n",
    "#         alpha=0.3,\n",
    "#     )\n",
    "#     ax[1, ax_idx].set_ylabel(\"Score time (s)\")\n",
    "#     ax[1, ax_idx].set_xlabel(\"Number of training samples\")"
   ]
  },
  {
   "cell_type": "code",
   "execution_count": 20,
   "id": "35b5cbcf",
   "metadata": {},
   "outputs": [],
   "source": [
    "# def plot_svc_decision_function(clf, ax=None, plot_support=True):\n",
    "#     \"\"\"Plot the decision function for a 2D SVC\"\"\"\n",
    "#     if ax is None:\n",
    "#         ax = plt.gca()\n",
    "#     xlim = ax.get_xlim()\n",
    "#     ylim = ax.get_ylim()\n",
    "    \n",
    "#     # create grid to evaluate model\n",
    "#     x = np.linspace(xlim[0], xlim[1], 30)\n",
    "#     y = np.linspace(ylim[0], ylim[1], 30)\n",
    "#     Y, X = np.meshgrid(y, x)\n",
    "#     xy = np.vstack([X.ravel(), Y.ravel()]).T\n",
    "#     P = clf.decision_function(xy).reshape(X.shape)\n",
    "    \n",
    "#     # plot decision boundary and margins\n",
    "#     ax.contour(X, Y, P, colors='k',\n",
    "#                levels=[-1, 0, 1], alpha=0.5,\n",
    "#                linestyles=['--', '-', '--'])\n",
    "    \n",
    "#     # plot support vectors\n",
    "#     if plot_support:\n",
    "#         ax.scatter(clf.support_vectors_[:, 0],\n",
    "#                    clf.support_vectors_[:, 1],\n",
    "#                    s=300, linewidth=1, facecolors='none');\n",
    "#     ax.set_xlim(xlim)\n",
    "#     ax.set_ylim(ylim)"
   ]
  },
  {
   "cell_type": "code",
   "execution_count": 21,
   "id": "9b8b878f",
   "metadata": {},
   "outputs": [],
   "source": [
    "# from sklearn.datasets import make_blobs\n",
    "# from sklearn.datasets import make_circles\n",
    "# # from sklearn.datasets.samples_generator import make_circles\n",
    "# X, y = make_circles(100, factor=.1, noise=.1)\n",
    "\n",
    "# clf = SVC(kernel='rbf').fit(X, y)\n",
    "\n",
    "# plt.scatter(X[:, 0], X[:, 1], c=y, s=50, cmap='autumn')\n",
    "# plot_svc_decision_function(clf, plot_support=False);"
   ]
  },
  {
   "cell_type": "code",
   "execution_count": null,
   "id": "8b544bdc",
   "metadata": {},
   "outputs": [],
   "source": []
  }
 ],
 "metadata": {
  "colab": {
   "provenance": []
  },
  "kernelspec": {
   "display_name": "Python 3 (ipykernel)",
   "language": "python",
   "name": "python3"
  },
  "language_info": {
   "codemirror_mode": {
    "name": "ipython",
    "version": 3
   },
   "file_extension": ".py",
   "mimetype": "text/x-python",
   "name": "python",
   "nbconvert_exporter": "python",
   "pygments_lexer": "ipython3",
   "version": "3.8.16"
  }
 },
 "nbformat": 4,
 "nbformat_minor": 5
}
