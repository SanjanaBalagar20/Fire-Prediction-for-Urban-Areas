{
 "cells": [
  {
   "cell_type": "code",
   "execution_count": 1,
   "metadata": {
    "colab": {
     "base_uri": "https://localhost:8080/"
    },
    "executionInfo": {
     "elapsed": 1303,
     "status": "ok",
     "timestamp": 1681778388139,
     "user": {
      "displayName": "Meishan Fan",
      "userId": "14900579168546048834"
     },
     "user_tz": 420
    },
    "id": "QV9L0ot2S8wW",
    "outputId": "fa255b1f-ff7e-4803-addf-cd8b4bc87620"
   },
   "outputs": [],
   "source": [
    "import os\n",
    "import shutil\n",
    "\n",
    "import tensorflow as tf\n",
    "\n",
    "import pandas as pd\n",
    "import numpy as np\n",
    "\n",
    "from sklearn.metrics import accuracy_score, precision_score, recall_score, f1_score\n"
   ]
  },
  {
   "cell_type": "code",
   "execution_count": 2,
   "metadata": {
    "executionInfo": {
     "elapsed": 3,
     "status": "ok",
     "timestamp": 1681778216486,
     "user": {
      "displayName": "Meishan Fan",
      "userId": "14900579168546048834"
     },
     "user_tz": 420
    },
    "id": "pqX1SkyGT2x2"
   },
   "outputs": [],
   "source": [
    "def true_positive(y_true, y_pred):\n",
    "    tp = 0\n",
    "    for yt, yp in zip(y_true, y_pred):\n",
    "        \n",
    "        if yt == 1 and yp == 1:\n",
    "            tp += 1\n",
    "    return tp\n",
    "\n",
    "def true_negative(y_true, y_pred):\n",
    "    tn = 0\n",
    "    for yt, yp in zip(y_true, y_pred):\n",
    "        \n",
    "        if yt == 0 and yp == 0:\n",
    "            tn += 1\n",
    "    return tn\n",
    "\n",
    "def false_positive(y_true, y_pred):\n",
    "    fp = 0\n",
    "    for yt, yp in zip(y_true, y_pred):\n",
    "        \n",
    "        if yt == 0 and yp == 1:\n",
    "            fp += 1\n",
    "    return fp\n",
    "\n",
    "def false_negative(y_true, y_pred):\n",
    "    fn = 0\n",
    "    for yt, yp in zip(y_true, y_pred):\n",
    "        \n",
    "        if yt == 1 and yp == 0:\n",
    "            fn += 1\n",
    "    return fn\n",
    "\n",
    "\n",
    "def accuracy(y_true, y_pred):\n",
    "    correct_pred = 0\n",
    "    for yt, yp in zip(y_true, y_pred):\n",
    "        if yt == yp:\n",
    "            correct_pred += 1\n",
    "    return correct_pred / len(y_true)\n",
    "\n",
    "\n",
    "# Precision = TP / (TP + FP)\n",
    "# Macro averaged precision: calculate precision for all classes individually and then average them\n",
    "# Micro averaged precision: calculate class wise true positive and false positive and then use that to calculate overall precision\n",
    "def macro_precision(y_true, y_pred):\n",
    "    # find the number of classes\n",
    "    num_classes = len(np.unique(y_true))\n",
    "    # initialize precision to 0\n",
    "    precision = 0\n",
    "    # loop over all classes\n",
    "    for class_ in list(y_true.unique()):\n",
    "        # all classes except current are considered negative\n",
    "        temp_true = [1 if p == class_ else 0 for p in y_true]\n",
    "        temp_pred = [1 if p == class_ else 0 for p in y_pred]\n",
    "        # compute true positive for current class\n",
    "        tp = true_positive(temp_true, temp_pred)\n",
    "        # compute false positive for current class\n",
    "        fp = false_positive(temp_true, temp_pred)\n",
    "        # compute precision for current class\n",
    "        temp_precision = tp / (tp + fp + 1e-6)\n",
    "        # keep adding precision for all classes\n",
    "        precision += temp_precision\n",
    "    # calculate and return average precision over all classes\n",
    "    precision /= num_classes\n",
    "    return round(precision, 2)\n",
    "\n",
    "def micro_precision(y_true, y_pred):\n",
    "    # find the number of classes \n",
    "    num_classes = len(np.unique(y_true))\n",
    "    # initialize tp and fp to 0\n",
    "    tp = 0\n",
    "    fp = 0\n",
    "    # loop over all classes\n",
    "    for class_ in y_true.unique():\n",
    "        # all classes except current are considered negative\n",
    "        temp_true = [1 if p == class_ else 0 for p in y_true]\n",
    "        temp_pred = [1 if p == class_ else 0 for p in y_pred]\n",
    "        # calculate true positive for current class\n",
    "        # and update overall tp\n",
    "        tp += true_positive(temp_true, temp_pred)\n",
    "        # calculate false positive for current class\n",
    "        # and update overall tp\n",
    "        fp += false_positive(temp_true, temp_pred)\n",
    "    # calculate and return overall precision\n",
    "    precision = tp / (tp + fp)\n",
    "    return round(precision, 6)\n",
    "\n",
    "\n",
    "# Recall = TP / (TP + FN)\n",
    "def macro_recall(y_true, y_pred):\n",
    "    # find the number of classes\n",
    "    num_classes = len(np.unique(y_true))\n",
    "    # initialize recall to 0\n",
    "    recall = 0\n",
    "    # loop over all classes\n",
    "    for class_ in list(y_true.unique()):\n",
    "        # all classes except current are considered negative\n",
    "        temp_true = [1 if p == class_ else 0 for p in y_true]\n",
    "        temp_pred = [1 if p == class_ else 0 for p in y_pred]\n",
    "        # compute true positive for current class\n",
    "        tp = true_positive(temp_true, temp_pred)\n",
    "        # compute false negative for current class\n",
    "        fn = false_negative(temp_true, temp_pred)\n",
    "        # compute recall for current class\n",
    "        temp_recall = tp / (tp + fn + 1e-6)\n",
    "        # keep adding recall for all classes\n",
    "        recall += temp_recall\n",
    "    # calculate and return average recall over all classes\n",
    "    recall /= num_classes\n",
    "    return round(recall, 2)\n",
    "\n",
    "\n",
    "def micro_recall(y_true, y_pred):\n",
    "    # find the number of classes \n",
    "    num_classes = len(np.unique(y_true))\n",
    "    # initialize tp and fp to 0\n",
    "    tp = 0\n",
    "    fn = 0\n",
    "    # loop over all classes\n",
    "    for class_ in y_true.unique():\n",
    "        # all classes except current are considered negative\n",
    "        temp_true = [1 if p == class_ else 0 for p in y_true]\n",
    "        temp_pred = [1 if p == class_ else 0 for p in y_pred]\n",
    "        # calculate true positive for current class\n",
    "        # and update overall tp\n",
    "        tp += true_positive(temp_true, temp_pred)\n",
    "        # calculate false negative for current class\n",
    "        # and update overall tp\n",
    "        fn += false_negative(temp_true, temp_pred)\n",
    "    # calculate and return overall recall\n",
    "    recall = tp / (tp + fn)\n",
    "    return round(recall, 6)\n",
    "\n",
    "\n",
    "# F1 = 2PR / (P + R)\n",
    "# Macro averaged F1 Score: calculate f1 score of every class and then average them\n",
    "# Micro averaged F1 Score: calculate macro-averaged precision score and macro-averaged recall score and then take there harmonic mean\n",
    "def macro_f1(y_true, y_pred):\n",
    "    # find the number of classes\n",
    "    num_classes = len(np.unique(y_true))\n",
    "    # initialize f1 to 0\n",
    "    f1 = 0\n",
    "    # loop over all classes\n",
    "    for class_ in list(y_true.unique()):\n",
    "        # all classes except current are considered negative\n",
    "        temp_true = [1 if p == class_ else 0 for p in y_true]\n",
    "        temp_pred = [1 if p == class_ else 0 for p in y_pred]\n",
    "        # compute true positive for current class\n",
    "        tp = true_positive(temp_true, temp_pred)\n",
    "        # compute false negative for current class\n",
    "        fn = false_negative(temp_true, temp_pred)\n",
    "        # compute false positive for current class\n",
    "        fp = false_positive(temp_true, temp_pred)\n",
    "        # compute recall for current class\n",
    "        temp_recall = tp / (tp + fn + 1e-6)\n",
    "        # compute precision for current class\n",
    "        temp_precision = tp / (tp + fp + 1e-6)\n",
    "        temp_f1 = 2 * temp_precision * temp_recall / (temp_precision + temp_recall + 1e-6)\n",
    "        # keep adding f1 score for all classes\n",
    "        f1 += temp_f1\n",
    "    # calculate and return average f1 score over all classes\n",
    "    f1 /= num_classes\n",
    "    return round(f1, 2)\n",
    "\n",
    "def micro_f1(y_true, y_pred):\n",
    "    #micro-averaged precision score\n",
    "    P = micro_precision(y_true, y_pred)\n",
    "    #micro-averaged recall score\n",
    "    R = micro_recall(y_true, y_pred)\n",
    "    #micro averaged f1 score\n",
    "    f1 = 2*P*R / (P + R)    \n",
    "    return round(f1, 6)\n",
    "\n",
    "\n",
    "from sklearn.metrics import roc_auc_score\n",
    "def roc_auc_score_multiclass(actual_class, pred_class, average = \"macro\"):\n",
    "    #creating a set of all the unique classes using the actual class list\n",
    "    unique_class = set(actual_class)\n",
    "    roc_auc_dict = {}\n",
    "    for per_class in unique_class:\n",
    "        #creating a list of all the classes except the current class \n",
    "        other_class = [x for x in unique_class if x != per_class]\n",
    "        #marking the current class as 1 and all other classes as 0\n",
    "        new_actual_class = [0 if x in other_class else 1 for x in actual_class]\n",
    "        new_pred_class = [0 if x in other_class else 1 for x in pred_class]\n",
    "        #using the sklearn metrics method to calculate the roc_auc_score\n",
    "        roc_auc = roc_auc_score(new_actual_class, new_pred_class, average = average)\n",
    "        roc_auc_dict[per_class] = roc_auc\n",
    "    return roc_auc_dict"
   ]
  },
  {
   "cell_type": "code",
   "execution_count": 21,
   "metadata": {
    "colab": {
     "base_uri": "https://localhost:8080/",
     "height": 206
    },
    "executionInfo": {
     "elapsed": 467,
     "status": "ok",
     "timestamp": 1681778237876,
     "user": {
      "displayName": "Meishan Fan",
      "userId": "14900579168546048834"
     },
     "user_tz": 420
    },
    "id": "pTM46XiVX5lg",
    "outputId": "968e09be-19fc-4962-f6b4-4fc06fad2a27"
   },
   "outputs": [
    {
     "data": {
      "text/html": [
       "<div>\n",
       "<style scoped>\n",
       "    .dataframe tbody tr th:only-of-type {\n",
       "        vertical-align: middle;\n",
       "    }\n",
       "\n",
       "    .dataframe tbody tr th {\n",
       "        vertical-align: top;\n",
       "    }\n",
       "\n",
       "    .dataframe thead th {\n",
       "        text-align: right;\n",
       "    }\n",
       "</style>\n",
       "<table border=\"1\" class=\"dataframe\">\n",
       "  <thead>\n",
       "    <tr style=\"text-align: right;\">\n",
       "      <th></th>\n",
       "      <th>Unnamed: 0</th>\n",
       "      <th>0</th>\n",
       "      <th>1</th>\n",
       "      <th>2</th>\n",
       "      <th>y_pred</th>\n",
       "      <th>y_test</th>\n",
       "    </tr>\n",
       "  </thead>\n",
       "  <tbody>\n",
       "    <tr>\n",
       "      <th>0</th>\n",
       "      <td>0</td>\n",
       "      <td>0.903952</td>\n",
       "      <td>0.095999</td>\n",
       "      <td>4.950000e-05</td>\n",
       "      <td>1</td>\n",
       "      <td>2</td>\n",
       "    </tr>\n",
       "    <tr>\n",
       "      <th>1</th>\n",
       "      <td>1</td>\n",
       "      <td>0.034686</td>\n",
       "      <td>0.965305</td>\n",
       "      <td>8.800000e-06</td>\n",
       "      <td>2</td>\n",
       "      <td>2</td>\n",
       "    </tr>\n",
       "    <tr>\n",
       "      <th>2</th>\n",
       "      <td>2</td>\n",
       "      <td>0.999055</td>\n",
       "      <td>0.000945</td>\n",
       "      <td>1.080000e-07</td>\n",
       "      <td>1</td>\n",
       "      <td>1</td>\n",
       "    </tr>\n",
       "    <tr>\n",
       "      <th>3</th>\n",
       "      <td>3</td>\n",
       "      <td>0.024263</td>\n",
       "      <td>0.975735</td>\n",
       "      <td>1.340000e-06</td>\n",
       "      <td>2</td>\n",
       "      <td>2</td>\n",
       "    </tr>\n",
       "    <tr>\n",
       "      <th>4</th>\n",
       "      <td>4</td>\n",
       "      <td>0.969356</td>\n",
       "      <td>0.030628</td>\n",
       "      <td>1.600000e-05</td>\n",
       "      <td>1</td>\n",
       "      <td>1</td>\n",
       "    </tr>\n",
       "  </tbody>\n",
       "</table>\n",
       "</div>"
      ],
      "text/plain": [
       "   Unnamed: 0         0         1             2  y_pred  y_test\n",
       "0           0  0.903952  0.095999  4.950000e-05       1       2\n",
       "1           1  0.034686  0.965305  8.800000e-06       2       2\n",
       "2           2  0.999055  0.000945  1.080000e-07       1       1\n",
       "3           3  0.024263  0.975735  1.340000e-06       2       2\n",
       "4           4  0.969356  0.030628  1.600000e-05       1       1"
      ]
     },
     "execution_count": 21,
     "metadata": {},
     "output_type": "execute_result"
    }
   ],
   "source": [
    "result_df = pd.read_csv(\"y_preds_hy_5.csv\")\n",
    "# result_df = result_df.drop('Unnamed: 0', axis = 1)\n",
    "result_df = result_df.rename(columns = {\"y_pred\": \"y_pred\", \"y_test\": \"y_test\"})\n",
    "result_df.head()"
   ]
  },
  {
   "cell_type": "code",
   "execution_count": 22,
   "metadata": {
    "colab": {
     "base_uri": "https://localhost:8080/"
    },
    "executionInfo": {
     "elapsed": 110,
     "status": "ok",
     "timestamp": 1681778241612,
     "user": {
      "displayName": "Meishan Fan",
      "userId": "14900579168546048834"
     },
     "user_tz": 420
    },
    "id": "J1nJaLm1geF-",
    "outputId": "7eae6bef-6954-467c-eb6b-d35253af98a4"
   },
   "outputs": [
    {
     "data": {
      "text/plain": [
       "1    1446\n",
       "2     425\n",
       "3     288\n",
       "Name: y_test, dtype: int64"
      ]
     },
     "execution_count": 22,
     "metadata": {},
     "output_type": "execute_result"
    }
   ],
   "source": [
    "result_df[\"y_test\"].value_counts()"
   ]
  },
  {
   "cell_type": "code",
   "execution_count": 23,
   "metadata": {
    "colab": {
     "base_uri": "https://localhost:8080/"
    },
    "executionInfo": {
     "elapsed": 143,
     "status": "ok",
     "timestamp": 1681778242683,
     "user": {
      "displayName": "Meishan Fan",
      "userId": "14900579168546048834"
     },
     "user_tz": 420
    },
    "id": "Ue7__8kIgnmE",
    "outputId": "f9250729-60de-4873-ecf4-4f866c2f7051"
   },
   "outputs": [
    {
     "data": {
      "text/plain": [
       "1    1384\n",
       "2     772\n",
       "3       3\n",
       "Name: y_pred, dtype: int64"
      ]
     },
     "execution_count": 23,
     "metadata": {},
     "output_type": "execute_result"
    }
   ],
   "source": [
    "result_df[\"y_pred\"].value_counts()"
   ]
  },
  {
   "cell_type": "code",
   "execution_count": 24,
   "metadata": {
    "executionInfo": {
     "elapsed": 309,
     "status": "ok",
     "timestamp": 1681778281144,
     "user": {
      "displayName": "Meishan Fan",
      "userId": "14900579168546048834"
     },
     "user_tz": 420
    },
    "id": "IWIqkhuu0tHb"
   },
   "outputs": [],
   "source": [
    "accuracy_score = round(accuracy(result_df[\"y_test\"], result_df[\"y_pred\"]), 2)\n",
    "\n",
    "mac_precision = round(macro_precision(result_df[\"y_test\"], result_df[\"y_pred\"]), 2)\n",
    "mic_precision = round(micro_precision(result_df[\"y_test\"], result_df[\"y_pred\"]), 6)\n",
    "\n",
    "mac_recall = round(macro_recall(result_df[\"y_test\"], result_df[\"y_pred\"]), 2)\n",
    "mic_recall = round(micro_recall(result_df[\"y_test\"], result_df[\"y_pred\"]), 6)\n",
    "\n",
    "mac_f1 = round(macro_f1(result_df[\"y_test\"], result_df[\"y_pred\"]), 2)\n",
    "mic_f1 = round(micro_f1(result_df[\"y_test\"], result_df[\"y_pred\"]), 6)\n",
    "\n",
    "roc_auc_dict = roc_auc_score_multiclass(result_df[\"y_test\"], result_df[\"y_pred\"])"
   ]
  },
  {
   "cell_type": "code",
   "execution_count": 25,
   "metadata": {
    "executionInfo": {
     "elapsed": 2,
     "status": "ok",
     "timestamp": 1681778281823,
     "user": {
      "displayName": "Meishan Fan",
      "userId": "14900579168546048834"
     },
     "user_tz": 420
    },
    "id": "MIkHLY0ggQMY"
   },
   "outputs": [],
   "source": [
    "y_true, y_pred = result_df[\"y_test\"], result_df[\"y_pred\"]"
   ]
  },
  {
   "cell_type": "code",
   "execution_count": 27,
   "metadata": {
    "colab": {
     "base_uri": "https://localhost:8080/",
     "height": 199
    },
    "executionInfo": {
     "elapsed": 183,
     "status": "ok",
     "timestamp": 1681778434513,
     "user": {
      "displayName": "Meishan Fan",
      "userId": "14900579168546048834"
     },
     "user_tz": 420
    },
    "id": "n8SYmoLn3Qob",
    "outputId": "304cb9c4-621d-481e-d98b-2cdcc8bdc613"
   },
   "outputs": [
    {
     "name": "stdout",
     "output_type": "stream",
     "text": [
      "Recall: 0.8179712830013895\n",
      "Precision: 0.8347022971637367\n",
      "F1_Score: 0.7791657084800875\n"
     ]
    },
    {
     "data": {
      "text/html": [
       "<div>\n",
       "<style scoped>\n",
       "    .dataframe tbody tr th:only-of-type {\n",
       "        vertical-align: middle;\n",
       "    }\n",
       "\n",
       "    .dataframe tbody tr th {\n",
       "        vertical-align: top;\n",
       "    }\n",
       "\n",
       "    .dataframe thead th {\n",
       "        text-align: right;\n",
       "    }\n",
       "</style>\n",
       "<table border=\"1\" class=\"dataframe\">\n",
       "  <thead>\n",
       "    <tr style=\"text-align: right;\">\n",
       "      <th></th>\n",
       "      <th>pred1</th>\n",
       "      <th>pred2</th>\n",
       "      <th>pred3</th>\n",
       "    </tr>\n",
       "  </thead>\n",
       "  <tbody>\n",
       "    <tr>\n",
       "      <th>true1</th>\n",
       "      <td>1361</td>\n",
       "      <td>85</td>\n",
       "      <td>0</td>\n",
       "    </tr>\n",
       "    <tr>\n",
       "      <th>true2</th>\n",
       "      <td>23</td>\n",
       "      <td>402</td>\n",
       "      <td>0</td>\n",
       "    </tr>\n",
       "    <tr>\n",
       "      <th>true3</th>\n",
       "      <td>0</td>\n",
       "      <td>285</td>\n",
       "      <td>3</td>\n",
       "    </tr>\n",
       "  </tbody>\n",
       "</table>\n",
       "</div>"
      ],
      "text/plain": [
       "       pred1  pred2  pred3\n",
       "true1   1361     85      0\n",
       "true2     23    402      0\n",
       "true3      0    285      3"
      ]
     },
     "execution_count": 27,
     "metadata": {},
     "output_type": "execute_result"
    }
   ],
   "source": [
    "tp11 = 0\n",
    "tp12 = 0\n",
    "tp13 = 0\n",
    "tp21 = 0\n",
    "tp22 = 0\n",
    "tp23 = 0\n",
    "tp31 = 0\n",
    "tp32 = 0\n",
    "tp33 = 0\n",
    "\n",
    "\n",
    "for t, p in zip(y_true, y_pred):\n",
    "    if t == 1:\n",
    "        if p == 1:\n",
    "            tp11 += 1\n",
    "        elif p == 2:\n",
    "            tp12 += 1\n",
    "        elif p == 3:\n",
    "        # else:\n",
    "            tp13 += 1\n",
    "\n",
    "    elif t == 2:\n",
    "        if p == 1:\n",
    "            tp21 += 1\n",
    "        elif p == 2:\n",
    "            tp22 += 1\n",
    "        elif p == 3:\n",
    "        # else:\n",
    "            tp23 += 1\n",
    "    \n",
    "    elif t == 3:\n",
    "        if p == 1:\n",
    "            tp31 += 1\n",
    "        elif p == 2:\n",
    "            tp32 += 1\n",
    "        elif p == 3:\n",
    "        # else:\n",
    "             tp33 += 1\n",
    "    \n",
    "confusion_matrix = pd.DataFrame(np.array([[tp11, tp12, tp13], \n",
    "                       [tp21, tp22, tp23], \n",
    "                       [tp31, tp32, tp33]]), \n",
    "             columns = ['pred1', 'pred2', 'pred3'], \n",
    "             index = ['true1', 'true2', 'true3'])\n",
    "\n",
    "print(\"Recall:\", recall_score(y_true, y_pred, average = 'weighted'))\n",
    "print(\"Precision:\",precision_score(y_true, y_pred, average = 'macro'))\n",
    "print(\"F1_Score:\",f1_score(y_true, y_pred, average = 'weighted'))\n",
    "\n",
    "confusion_matrix"
   ]
  },
  {
   "cell_type": "code",
   "execution_count": null,
   "metadata": {
    "id": "jp0Fwim0zlyz"
   },
   "outputs": [],
   "source": []
  },
  {
   "cell_type": "code",
   "execution_count": null,
   "metadata": {},
   "outputs": [],
   "source": []
  }
 ],
 "metadata": {
  "colab": {
   "authorship_tag": "ABX9TyOVEUbwcM/6x5HOfVmtFEcK",
   "provenance": []
  },
  "kernelspec": {
   "display_name": "Python 3 (ipykernel)",
   "language": "python",
   "name": "python3"
  },
  "language_info": {
   "codemirror_mode": {
    "name": "ipython",
    "version": 3
   },
   "file_extension": ".py",
   "mimetype": "text/x-python",
   "name": "python",
   "nbconvert_exporter": "python",
   "pygments_lexer": "ipython3",
   "version": "3.8.16"
  }
 },
 "nbformat": 4,
 "nbformat_minor": 1
}
