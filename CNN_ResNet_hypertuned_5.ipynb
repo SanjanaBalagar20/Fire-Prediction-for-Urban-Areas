{
 "cells": [
  {
   "cell_type": "code",
   "execution_count": 1,
   "id": "7bc9de31",
   "metadata": {},
   "outputs": [],
   "source": [
    "from fastai.vision import *\n",
    "from fastai.tabular import *\n",
    "from image_tabular.core import *\n",
    "from image_tabular.dataset import *\n",
    "from image_tabular.model import *\n",
    "#from image_tabular.metric import *\n",
    "import sklearn.metrics as metrics\n",
    "from sklearn.metrics import f1_score\n",
    "# use gpu by default if available\n",
    "device = torch.device('cuda:0' if torch.cuda.is_available() else 'cpu')"
   ]
  },
  {
   "cell_type": "code",
   "execution_count": 2,
   "id": "10d79f90",
   "metadata": {},
   "outputs": [
    {
     "name": "stdout",
     "output_type": "stream",
     "text": [
      "5035 2159\n"
     ]
    }
   ],
   "source": [
    "train_df = pd.read_csv(\"train.csv\")\n",
    "test_df = pd.read_csv(\"test.csv\")\n",
    "print(len(train_df), len(test_df))\n",
    "     "
   ]
  },
  {
   "cell_type": "code",
   "execution_count": 3,
   "id": "42db78f9",
   "metadata": {},
   "outputs": [
    {
     "data": {
      "text/html": [
       "<div>\n",
       "<style scoped>\n",
       "    .dataframe tbody tr th:only-of-type {\n",
       "        vertical-align: middle;\n",
       "    }\n",
       "\n",
       "    .dataframe tbody tr th {\n",
       "        vertical-align: top;\n",
       "    }\n",
       "\n",
       "    .dataframe thead th {\n",
       "        text-align: right;\n",
       "    }\n",
       "</style>\n",
       "<table border=\"1\" class=\"dataframe\">\n",
       "  <thead>\n",
       "    <tr style=\"text-align: right;\">\n",
       "      <th></th>\n",
       "      <th>Unnamed: 0</th>\n",
       "      <th>INCIDENT_NO</th>\n",
       "      <th>LONGITUDE</th>\n",
       "      <th>LATITUDE</th>\n",
       "      <th>DAY</th>\n",
       "      <th>MONTH</th>\n",
       "      <th>YEAR</th>\n",
       "      <th>DATE</th>\n",
       "      <th>ZONING_CATEGORIES</th>\n",
       "      <th>HOUSES WITHIN 100 METER</th>\n",
       "      <th>...</th>\n",
       "      <th>TMIN</th>\n",
       "      <th>AWND</th>\n",
       "      <th>WDF2</th>\n",
       "      <th>WDF5</th>\n",
       "      <th>WSF2</th>\n",
       "      <th>WSF5</th>\n",
       "      <th>NEW_NDVI_VALUE</th>\n",
       "      <th>NEW_NEW_NDVI_VALUE</th>\n",
       "      <th>FIRE_ALARM</th>\n",
       "      <th>image_name</th>\n",
       "    </tr>\n",
       "  </thead>\n",
       "  <tbody>\n",
       "    <tr>\n",
       "      <th>0</th>\n",
       "      <td>0</td>\n",
       "      <td>F191789187</td>\n",
       "      <td>-121.836504</td>\n",
       "      <td>37.279261</td>\n",
       "      <td>27</td>\n",
       "      <td>6</td>\n",
       "      <td>2019</td>\n",
       "      <td>6/27/2019</td>\n",
       "      <td>Road</td>\n",
       "      <td>31</td>\n",
       "      <td>...</td>\n",
       "      <td>55.0</td>\n",
       "      <td>10.74</td>\n",
       "      <td>340</td>\n",
       "      <td>320.0</td>\n",
       "      <td>21.9</td>\n",
       "      <td>28.0</td>\n",
       "      <td>246</td>\n",
       "      <td>227</td>\n",
       "      <td>1</td>\n",
       "      <td>F191789187_2019_6</td>\n",
       "    </tr>\n",
       "    <tr>\n",
       "      <th>1</th>\n",
       "      <td>1</td>\n",
       "      <td>F200239062</td>\n",
       "      <td>-121.841556</td>\n",
       "      <td>37.351582</td>\n",
       "      <td>23</td>\n",
       "      <td>1</td>\n",
       "      <td>2020</td>\n",
       "      <td>1/23/2020</td>\n",
       "      <td>Residential</td>\n",
       "      <td>2</td>\n",
       "      <td>...</td>\n",
       "      <td>45.0</td>\n",
       "      <td>2.24</td>\n",
       "      <td>330</td>\n",
       "      <td>330.0</td>\n",
       "      <td>8.9</td>\n",
       "      <td>11.0</td>\n",
       "      <td>176</td>\n",
       "      <td>123</td>\n",
       "      <td>2</td>\n",
       "      <td>F200239062_2020_1</td>\n",
       "    </tr>\n",
       "    <tr>\n",
       "      <th>2</th>\n",
       "      <td>2</td>\n",
       "      <td>F191709218</td>\n",
       "      <td>-121.851588</td>\n",
       "      <td>37.275038</td>\n",
       "      <td>19</td>\n",
       "      <td>6</td>\n",
       "      <td>2019</td>\n",
       "      <td>6/19/2019</td>\n",
       "      <td>Development</td>\n",
       "      <td>128</td>\n",
       "      <td>...</td>\n",
       "      <td>58.0</td>\n",
       "      <td>9.17</td>\n",
       "      <td>330</td>\n",
       "      <td>330.0</td>\n",
       "      <td>17.0</td>\n",
       "      <td>21.0</td>\n",
       "      <td>227</td>\n",
       "      <td>192</td>\n",
       "      <td>1</td>\n",
       "      <td>F191709218_2019_6</td>\n",
       "    </tr>\n",
       "    <tr>\n",
       "      <th>3</th>\n",
       "      <td>3</td>\n",
       "      <td>F191659097</td>\n",
       "      <td>-121.853330</td>\n",
       "      <td>37.322976</td>\n",
       "      <td>14</td>\n",
       "      <td>6</td>\n",
       "      <td>2019</td>\n",
       "      <td>6/14/2019</td>\n",
       "      <td>Residential</td>\n",
       "      <td>37</td>\n",
       "      <td>...</td>\n",
       "      <td>56.0</td>\n",
       "      <td>7.16</td>\n",
       "      <td>330</td>\n",
       "      <td>330.0</td>\n",
       "      <td>19.9</td>\n",
       "      <td>23.0</td>\n",
       "      <td>151</td>\n",
       "      <td>136</td>\n",
       "      <td>2</td>\n",
       "      <td>F191659097_2019_6</td>\n",
       "    </tr>\n",
       "    <tr>\n",
       "      <th>4</th>\n",
       "      <td>4</td>\n",
       "      <td>F193049078</td>\n",
       "      <td>-122.006150</td>\n",
       "      <td>37.326483</td>\n",
       "      <td>31</td>\n",
       "      <td>10</td>\n",
       "      <td>2019</td>\n",
       "      <td>10/31/2019</td>\n",
       "      <td>Road</td>\n",
       "      <td>0</td>\n",
       "      <td>...</td>\n",
       "      <td>42.0</td>\n",
       "      <td>3.58</td>\n",
       "      <td>330</td>\n",
       "      <td>310.0</td>\n",
       "      <td>10.1</td>\n",
       "      <td>12.1</td>\n",
       "      <td>234</td>\n",
       "      <td>63</td>\n",
       "      <td>3</td>\n",
       "      <td>F193049078_2019_10</td>\n",
       "    </tr>\n",
       "  </tbody>\n",
       "</table>\n",
       "<p>5 rows × 24 columns</p>\n",
       "</div>"
      ],
      "text/plain": [
       "   Unnamed: 0 INCIDENT_NO   LONGITUDE   LATITUDE  DAY  MONTH  YEAR  \\\n",
       "0           0  F191789187 -121.836504  37.279261   27      6  2019   \n",
       "1           1  F200239062 -121.841556  37.351582   23      1  2020   \n",
       "2           2  F191709218 -121.851588  37.275038   19      6  2019   \n",
       "3           3  F191659097 -121.853330  37.322976   14      6  2019   \n",
       "4           4  F193049078 -122.006150  37.326483   31     10  2019   \n",
       "\n",
       "         DATE ZONING_CATEGORIES  HOUSES WITHIN 100 METER  ...  TMIN   AWND  \\\n",
       "0   6/27/2019              Road                       31  ...  55.0  10.74   \n",
       "1   1/23/2020       Residential                        2  ...  45.0   2.24   \n",
       "2   6/19/2019       Development                      128  ...  58.0   9.17   \n",
       "3   6/14/2019       Residential                       37  ...  56.0   7.16   \n",
       "4  10/31/2019              Road                        0  ...  42.0   3.58   \n",
       "\n",
       "   WDF2   WDF5  WSF2  WSF5  NEW_NDVI_VALUE  NEW_NEW_NDVI_VALUE  FIRE_ALARM  \\\n",
       "0   340  320.0  21.9  28.0             246                 227           1   \n",
       "1   330  330.0   8.9  11.0             176                 123           2   \n",
       "2   330  330.0  17.0  21.0             227                 192           1   \n",
       "3   330  330.0  19.9  23.0             151                 136           2   \n",
       "4   330  310.0  10.1  12.1             234                  63           3   \n",
       "\n",
       "           image_name  \n",
       "0   F191789187_2019_6  \n",
       "1   F200239062_2020_1  \n",
       "2   F191709218_2019_6  \n",
       "3   F191659097_2019_6  \n",
       "4  F193049078_2019_10  \n",
       "\n",
       "[5 rows x 24 columns]"
      ]
     },
     "execution_count": 3,
     "metadata": {},
     "output_type": "execute_result"
    }
   ],
   "source": [
    "train_df.head()"
   ]
  },
  {
   "cell_type": "code",
   "execution_count": 4,
   "id": "728317ed",
   "metadata": {},
   "outputs": [
    {
     "data": {
      "text/plain": [
       "1    0.667329\n",
       "2    0.198808\n",
       "3    0.133863\n",
       "Name: FIRE_ALARM, dtype: float64"
      ]
     },
     "execution_count": 4,
     "metadata": {},
     "output_type": "execute_result"
    }
   ],
   "source": [
    "train_df[\"FIRE_ALARM\"].value_counts(normalize=True)"
   ]
  },
  {
   "cell_type": "code",
   "execution_count": 5,
   "id": "f3f4389b",
   "metadata": {},
   "outputs": [],
   "source": [
    "tfms = get_transforms(flip_vert=True)\n",
    "size = 62"
   ]
  },
  {
   "cell_type": "code",
   "execution_count": 6,
   "id": "5cd7dc68",
   "metadata": {},
   "outputs": [
    {
     "data": {
      "text/plain": [
       "Index(['Unnamed: 0', 'INCIDENT_NO', 'LONGITUDE', 'LATITUDE', 'DAY', 'MONTH',\n",
       "       'YEAR', 'DATE', 'ZONING_CATEGORIES', 'HOUSES WITHIN 100 METER',\n",
       "       'HOUSES WITHIN 200 METER', 'OLD_NDVI_VALUE', 'PRCP', 'TMAX', 'TMIN',\n",
       "       'AWND', 'WDF2', 'WDF5', 'WSF2', 'WSF5', 'NEW_NDVI_VALUE',\n",
       "       'NEW_NEW_NDVI_VALUE', 'FIRE_ALARM', 'image_name'],\n",
       "      dtype='object')"
      ]
     },
     "execution_count": 6,
     "metadata": {},
     "output_type": "execute_result"
    }
   ],
   "source": [
    "train_df.columns"
   ]
  },
  {
   "cell_type": "code",
   "execution_count": 7,
   "id": "9ba8ffdd",
   "metadata": {},
   "outputs": [
    {
     "data": {
      "text/plain": [
       "1007"
      ]
     },
     "execution_count": 7,
     "metadata": {},
     "output_type": "execute_result"
    }
   ],
   "source": [
    "val_idx = get_valid_index(train_df)\n",
    "len(val_idx)"
   ]
  },
  {
   "cell_type": "code",
   "execution_count": 8,
   "id": "6027b894",
   "metadata": {},
   "outputs": [],
   "source": [
    "folder = r\"C:/Users/sanja/OneDrive/Desktop/cnn_tab/CNN_ResNet_5\""
   ]
  },
  {
   "cell_type": "code",
   "execution_count": 9,
   "id": "d16dea25",
   "metadata": {},
   "outputs": [],
   "source": [
    "cols = \"INCIDENT_NO\""
   ]
  },
  {
   "cell_type": "code",
   "execution_count": 10,
   "id": "b3663b6d",
   "metadata": {},
   "outputs": [
    {
     "data": {
      "text/plain": [
       "LabelLists;\n",
       "\n",
       "Train: LabelList (4028 items)\n",
       "x: ImageList\n",
       "Image (3, 62, 62),Image (3, 62, 62),Image (3, 62, 62),Image (3, 62, 62),Image (3, 62, 62)\n",
       "y: CategoryList\n",
       "1,2,1,2,3\n",
       "Path: C:\\Users\\sanja\\OneDrive\\Desktop\\cnn_tab\\CNN_ResNet_5;\n",
       "\n",
       "Valid: LabelList (1007 items)\n",
       "x: ImageList\n",
       "Image (3, 62, 62),Image (3, 62, 62),Image (3, 62, 62),Image (3, 62, 62),Image (3, 62, 62)\n",
       "y: CategoryList\n",
       "1,1,3,1,1\n",
       "Path: C:\\Users\\sanja\\OneDrive\\Desktop\\cnn_tab\\CNN_ResNet_5;\n",
       "\n",
       "Test: LabelList (2159 items)\n",
       "x: ImageList\n",
       "Image (3, 62, 62),Image (3, 62, 62),Image (3, 62, 62),Image (3, 62, 62),Image (3, 62, 62)\n",
       "y: EmptyLabelList\n",
       ",,,,\n",
       "Path: C:\\Users\\sanja\\OneDrive\\Desktop\\cnn_tab\\CNN_ResNet_5"
      ]
     },
     "execution_count": 10,
     "metadata": {},
     "output_type": "execute_result"
    }
   ],
   "source": [
    "image_data = (ImageList.from_df(train_df, path=folder,cols=\"image_name\",\n",
    "                               folder=\"train_images\", suffix=\".png\")\n",
    "              .split_by_idx(val_idx)\n",
    "              .label_from_df(cols=\"FIRE_ALARM\")\n",
    "              )\n",
    "\n",
    "# add test data so that we can make predictions\n",
    "test_image_data = ImageList.from_df(test_df, path=folder,cols=\"image_name\",\n",
    "                                    folder=\"test_images\", suffix=\".png\")\n",
    "image_data.add_test(test_image_data)"
   ]
  },
  {
   "cell_type": "code",
   "execution_count": 11,
   "id": "9cd5bdf0",
   "metadata": {},
   "outputs": [
    {
     "name": "stdout",
     "output_type": "stream",
     "text": [
      "2\n"
     ]
    },
    {
     "data": {
      "image/jpeg": "[encoded data removed]",
      "image/png": "[encoded data removed]",
      "text/plain": [
       "Image (3, 62, 62)"
      ]
     },
     "execution_count": 11,
     "metadata": {},
     "output_type": "execute_result"
    }
   ],
   "source": [
    "print(image_data.train[10][1])\n",
    "image_data.train[10][0]"
   ]
  },
  {
   "cell_type": "code",
   "execution_count": 12,
   "id": "6fcce19d",
   "metadata": {},
   "outputs": [],
   "source": [
    "dep_var = 'FIRE_ALARM'\n",
    "cat_names = ['ZONING_CATEGORIES']\n",
    "cont_names = ['HOUSES WITHIN 200 METER', 'HOUSES WITHIN 100 METER', 'YEAR', 'MONTH', 'LONGITUDE', 'LATITUDE','TMAX','TMIN',\n",
    "               'AWND', 'WDF2', 'WDF5', 'WSF2', 'WSF5', 'PRCP','DAY','NEW_NEW_NDVI_VALUE']\n",
    "procs = [FillMissing, Categorify, Normalize]"
   ]
  },
  {
   "cell_type": "code",
   "execution_count": 13,
   "id": "cd51e68c",
   "metadata": {},
   "outputs": [
    {
     "data": {
      "text/plain": [
       "LabelLists;\n",
       "\n",
       "Train: LabelList (4028 items)\n",
       "x: TabularList\n",
       "ZONING_CATEGORIES Road; HOUSES WITHIN 200 METER 0.2829; HOUSES WITHIN 100 METER -0.2694; YEAR -0.6929; MONTH -0.1613; LONGITUDE 0.6245; LATITUDE -0.9798; TMAX -0.0264; TMIN 0.4098; AWND 1.6539; WDF2 0.6055; WDF5 0.3473; WSF2 1.0590; WSF5 1.0521; PRCP -0.1843; DAY 1.3192; NEW_NEW_NDVI_VALUE 1.0566; ,ZONING_CATEGORIES Residential; HOUSES WITHIN 200 METER -0.4905; HOUSES WITHIN 100 METER -0.6854; YEAR -0.0357; MONTH -1.6956; LONGITUDE 0.5202; LATITUDE 0.6578; TMAX -1.0600; TMIN -0.8191; AWND -1.7095; WDF2 0.4313; WDF5 0.4633; WSF2 -1.8375; WSF5 -1.7443; PRCP -0.1843; DAY 0.8623; NEW_NEW_NDVI_VALUE -0.8425; ,ZONING_CATEGORIES Development; HOUSES WITHIN 200 METER 0.5970; HOUSES WITHIN 100 METER 1.1220; YEAR -0.6929; MONTH -0.1613; LONGITUDE 0.3132; LATITUDE -1.0755; TMAX 0.4434; TMIN 0.7785; AWND 1.0326; WDF2 0.4313; WDF5 0.4633; WSF2 -0.0328; WSF5 -0.0994; PRCP -0.1843; DAY 0.4054; NEW_NEW_NDVI_VALUE 0.4175; ,ZONING_CATEGORIES Residential; HOUSES WITHIN 200 METER -0.3020; HOUSES WITHIN 100 METER -0.1833; YEAR -0.6929; MONTH -0.1613; LONGITUDE 0.2772; LATITUDE 0.0100; TMAX 0.2554; TMIN 0.5327; AWND 0.2373; WDF2 0.4313; WDF5 0.4633; WSF2 0.6134; WSF5 0.2296; PRCP -0.1843; DAY -0.1657; NEW_NEW_NDVI_VALUE -0.6051; ,ZONING_CATEGORIES Road; HOUSES WITHIN 200 METER -0.9110; HOUSES WITHIN 100 METER -0.7141; YEAR -0.6929; MONTH 1.0660; LONGITUDE -2.8771; LATITUDE 0.0894; TMAX -0.1204; TMIN -1.1878; AWND -1.1793; WDF2 0.4313; WDF5 0.2313; WSF2 -1.5701; WSF5 -1.5633; PRCP -0.1843; DAY 1.7760; NEW_NEW_NDVI_VALUE -1.9381; \n",
       "y: CategoryList\n",
       "1,2,1,2,3\n",
       "Path: C:\\Users\\sanja\\OneDrive\\Desktop\\cnn_tab\\CNN_ResNet_5;\n",
       "\n",
       "Valid: LabelList (1007 items)\n",
       "x: TabularList\n",
       "ZONING_CATEGORIES Residential; HOUSES WITHIN 200 METER 0.5874; HOUSES WITHIN 100 METER 0.6917; YEAR -0.6929; MONTH -1.0819; LONGITUDE -1.7995; LATITUDE -0.1945; TMAX -1.4359; TMIN -0.9420; AWND -2.0656; WDF2 0.0829; WDF5 0.2313; WSF2 -1.8375; WSF5 -2.0897; PRCP -0.1843; DAY -1.6505; NEW_NEW_NDVI_VALUE -0.3312; ,ZONING_CATEGORIES Road; HOUSES WITHIN 200 METER -0.0893; HOUSES WITHIN 100 METER -0.3124; YEAR -1.3500; MONTH 1.0660; LONGITUDE 0.1867; LATITUDE 1.2939; TMAX 0.2554; TMIN 0.6556; AWND -0.9141; WDF2 0.0829; WDF5 0.3473; WSF2 -0.9240; WSF5 -1.0863; PRCP -0.1843; DAY 1.0907; NEW_NEW_NDVI_VALUE 0.1436; ,ZONING_CATEGORIES Public_Open_Space; HOUSES WITHIN 200 METER -0.4180; HOUSES WITHIN 100 METER -0.3555; YEAR -0.0357; MONTH -1.3887; LONGITUDE -0.0171; LATITUDE 0.3380; TMAX -0.4963; TMIN -0.8191; AWND -0.8271; WDF2 0.2571; WDF5 0.3473; WSF2 -0.9240; WSF5 -0.9054; PRCP -0.1843; DAY 0.2912; NEW_NEW_NDVI_VALUE -2.3581; ,ZONING_CATEGORIES Residential; HOUSES WITHIN 200 METER -0.1618; HOUSES WITHIN 100 METER -0.1403; YEAR -1.3500; MONTH 0.7592; LONGITUDE -0.0653; LATITUDE 1.1723; TMAX 0.3494; TMIN 0.7785; AWND 0.4154; WDF2 0.2571; WDF5 -2.3209; WSF2 0.2123; WSF5 1.3810; PRCP -0.1843; DAY -1.1936; NEW_NEW_NDVI_VALUE 0.1436; ,ZONING_CATEGORIES Industrial; HOUSES WITHIN 200 METER -0.7467; HOUSES WITHIN 100 METER -0.6567; YEAR -1.3500; MONTH 0.7592; LONGITUDE -0.8956; LATITUDE 0.3860; TMAX 0.1615; TMIN 0.2870; AWND 0.6805; WDF2 0.7798; WDF5 0.5793; WSF2 0.8584; WSF5 0.5750; PRCP -0.1843; DAY -0.2799; NEW_NEW_NDVI_VALUE 1.1844; \n",
       "y: CategoryList\n",
       "1,1,3,1,1\n",
       "Path: C:\\Users\\sanja\\OneDrive\\Desktop\\cnn_tab\\CNN_ResNet_5;\n",
       "\n",
       "Test: LabelList (2159 items)\n",
       "x: TabularList\n",
       "ZONING_CATEGORIES Residential; HOUSES WITHIN 200 METER -0.0265; HOUSES WITHIN 100 METER 0.3618; YEAR -2.0072; MONTH 1.3729; LONGITUDE 0.6385; LATITUDE 0.7171; TMAX -1.2480; TMIN -0.4504; AWND -0.2929; WDF2 -0.7883; WDF5 -0.2328; WSF2 1.3041; WSF5 1.2330; PRCP 1.0463; DAY 1.3192; NEW_NEW_NDVI_VALUE 0.4175; ,ZONING_CATEGORIES Road; HOUSES WITHIN 200 METER -0.4953; HOUSES WITHIN 100 METER -0.4702; YEAR -0.0357; MONTH 0.1455; LONGITUDE -0.5796; LATITUDE 1.1018; TMAX 1.1011; TMIN 0.9014; AWND 0.1463; WDF2 0.7798; WDF5 -3.2490; WSF2 0.2123; WSF5 0.3776; PRCP -0.1843; DAY -1.1936; NEW_NEW_NDVI_VALUE -0.6051; ,ZONING_CATEGORIES Commercial; HOUSES WITHIN 200 METER -0.8917; HOUSES WITHIN 100 METER -0.6854; YEAR 0.6214; MONTH 1.3729; LONGITUDE 1.1073; LATITUDE 0.0751; TMAX 0.0675; TMIN -0.3275; AWND -1.3573; WDF2 0.4313; WDF5 0.5793; WSF2 -0.9240; WSF5 -1.0863; PRCP -0.1843; DAY -0.3941; NEW_NEW_NDVI_VALUE 1.0566; ,ZONING_CATEGORIES Road; HOUSES WITHIN 200 METER -0.4953; HOUSES WITHIN 100 METER -0.3985; YEAR -0.0357; MONTH -0.1613; LONGITUDE 1.0809; LATITUDE 1.2584; TMAX -0.1204; TMIN 0.4098; AWND 1.2107; WDF2 0.7798; WDF5 0.6953; WSF2 0.2123; WSF5 0.3776; PRCP -0.1843; DAY -0.2799; NEW_NEW_NDVI_VALUE -0.6051; ,ZONING_CATEGORIES Road; HOUSES WITHIN 200 METER -0.0458; HOUSES WITHIN 100 METER -0.3985; YEAR 1.2786; MONTH -1.6956; LONGITUDE 0.8302; LATITUDE -0.0723; TMAX -0.5902; TMIN -1.1878; AWND -0.1188; WDF2 0.7798; WDF5 -3.2490; WSF2 1.0590; WSF5 1.3810; PRCP -0.1843; DAY 0.6339; NEW_NEW_NDVI_VALUE 0.1618; \n",
       "y: EmptyLabelList\n",
       ",,,,\n",
       "Path: C:\\Users\\sanja\\OneDrive\\Desktop\\cnn_tab\\CNN_ResNet_5"
      ]
     },
     "execution_count": 13,
     "metadata": {},
     "output_type": "execute_result"
    }
   ],
   "source": [
    "\n",
    "tab_data = (TabularList.from_df(train_df, path=folder, cat_names=cat_names, cont_names=cont_names, procs=procs)\n",
    "                           .split_by_idx(val_idx)\n",
    "                           .label_from_df(cols=dep_var))\n",
    "\n",
    "# add test\n",
    "tab_data.add_test(TabularList.from_df(test_df, cat_names=cat_names, cont_names=cont_names,\n",
    "                                      processor = tab_data.train.x.processor))"
   ]
  },
  {
   "cell_type": "code",
   "execution_count": 14,
   "id": "58320b55",
   "metadata": {},
   "outputs": [
    {
     "data": {
      "text/plain": [
       "(TabularLine [tensor([6]), tensor([ 0.2829, -0.2694, -0.6929, -0.1613,  0.6245, -0.9798, -0.0264,  0.4098,\n",
       "          1.6539,  0.6055,  0.3473,  1.0590,  1.0521, -0.1843,  1.3192,  1.0566])],\n",
       " Category 0)"
      ]
     },
     "execution_count": 14,
     "metadata": {},
     "output_type": "execute_result"
    }
   ],
   "source": [
    "tab_data.train[0]"
   ]
  },
  {
   "cell_type": "code",
   "execution_count": 15,
   "id": "847b2af1",
   "metadata": {},
   "outputs": [],
   "source": [
    "integrate_train, integrate_valid, integrate_test = get_imagetabdatasets(image_data, tab_data)\n"
   ]
  },
  {
   "cell_type": "code",
   "execution_count": 16,
   "id": "038ebdbd",
   "metadata": {},
   "outputs": [
    {
     "data": {
      "text/plain": [
       "DataBunch;\n",
       "\n",
       "Train: <image_tabular.dataset.ImageTabDataset object at 0x000001C0EA45C4C0>;\n",
       "\n",
       "Valid: <image_tabular.dataset.ImageTabDataset object at 0x000001C0EA45C310>;\n",
       "\n",
       "Test: <image_tabular.dataset.ImageTabDataset object at 0x000001C0EA45C640>"
      ]
     },
     "execution_count": 16,
     "metadata": {},
     "output_type": "execute_result"
    }
   ],
   "source": [
    "bs = 64\n",
    "\n",
    "db = DataBunch.create(integrate_train, integrate_valid, integrate_test,\n",
    "                      path=folder, bs=bs)\n",
    "db\n"
   ]
  },
  {
   "cell_type": "code",
   "execution_count": 17,
   "id": "1b8830e0",
   "metadata": {},
   "outputs": [],
   "source": [
    "db.norm, db.denorm = normalize_funcs_image_tab(*imagenet_stats)\n",
    "db.add_tfm(db.norm)"
   ]
  },
  {
   "cell_type": "code",
   "execution_count": 18,
   "id": "7fcdf1da",
   "metadata": {},
   "outputs": [],
   "source": [
    "## Training on image and tabular data "
   ]
  },
  {
   "cell_type": "code",
   "execution_count": 19,
   "id": "42e000cf",
   "metadata": {},
   "outputs": [
    {
     "data": {
      "text/plain": [
       "2"
      ]
     },
     "execution_count": 19,
     "metadata": {},
     "output_type": "execute_result"
    }
   ],
   "source": [
    "x, y = next(iter(db.train_dl))\n",
    "len(x)"
   ]
  },
  {
   "cell_type": "code",
   "execution_count": 20,
   "id": "db5ed6c9",
   "metadata": {},
   "outputs": [
    {
     "data": {
      "text/plain": [
       "torch.Size([64, 3, 62, 62])"
      ]
     },
     "execution_count": 20,
     "metadata": {},
     "output_type": "execute_result"
    }
   ],
   "source": [
    "x[0].shape"
   ]
  },
  {
   "cell_type": "code",
   "execution_count": 21,
   "id": "25b9a77e",
   "metadata": {},
   "outputs": [
    {
     "name": "stderr",
     "output_type": "stream",
     "text": [
      "C:\\Users\\sanja\\anaconda3\\lib\\site-packages\\torchvision\\models\\_utils.py:135: UserWarning: Using 'weights' as positional parameter(s) is deprecated since 0.13 and will be removed in 0.15. Please use keyword parameter(s) instead.\n",
      "  warnings.warn(\n",
      "C:\\Users\\sanja\\anaconda3\\lib\\site-packages\\torchvision\\models\\_utils.py:223: UserWarning: Arguments other than a weight enum or `None` for 'weights' are deprecated since 0.13 and will be removed in 0.15. The current behavior is equivalent to passing `weights=ResNet50_Weights.IMAGENET1K_V1`. You can also use `weights=ResNet50_Weights.DEFAULT` to get the most up-to-date weights.\n",
      "  warnings.warn(msg)\n"
     ]
    }
   ],
   "source": [
    "cnn_arch = models.resnet50\n",
    "\n",
    "# cnn_out_sz is the output size of the cnn model that will be concatenated with tabular model output\n",
    "cnn_out_sz = 32\n",
    "\n",
    "# use fastai functions to get a cnn model\n",
    "image_data_db = image_data.databunch()\n",
    "image_data_db.c = cnn_out_sz\n",
    "cnn_learn = cnn_learner(image_data_db, cnn_arch, ps=0.2)\n",
    "cnn_model = cnn_learn.model"
   ]
  },
  {
   "cell_type": "code",
   "execution_count": 22,
   "id": "ee49c007",
   "metadata": {},
   "outputs": [
    {
     "data": {
      "text/plain": [
       "TabularModel(\n",
       "  (embeds): ModuleList(\n",
       "    (0): Embedding(7, 5)\n",
       "  )\n",
       "  (emb_drop): Dropout(p=0.0, inplace=False)\n",
       "  (bn_cont): BatchNorm1d(16, eps=1e-05, momentum=0.1, affine=True, track_running_stats=True)\n",
       "  (layers): Sequential(\n",
       "    (0): Linear(in_features=21, out_features=8, bias=True)\n",
       "    (1): ReLU(inplace=True)\n",
       "    (2): BatchNorm1d(8, eps=1e-05, momentum=0.1, affine=True, track_running_stats=True)\n",
       "    (3): Dropout(p=0.2, inplace=False)\n",
       "    (4): Linear(in_features=8, out_features=8, bias=True)\n",
       "  )\n",
       ")"
      ]
     },
     "execution_count": 22,
     "metadata": {},
     "output_type": "execute_result"
    }
   ],
   "source": [
    "emb_szs = tab_data.train.get_emb_szs()\n",
    "\n",
    "# output size of the tabular model that will be concatenated with cnn model output\n",
    "tab_out_sz = 8\n",
    "\n",
    "# use fastai functions to get a tabular model\n",
    "tabular_model = TabularModel(emb_szs, len(cont_names), out_sz=tab_out_sz, layers=[8], ps=0.2)\n",
    "tabular_model"
   ]
  },
  {
   "cell_type": "code",
   "execution_count": 23,
   "id": "0a9dcc33",
   "metadata": {},
   "outputs": [],
   "source": [
    "integrate_model = CNNTabularModel(cnn_model,\n",
    "                                  tabular_model,\n",
    "                                  layers = [cnn_out_sz + tab_out_sz, 32],\n",
    "                                  ps=0.2,\n",
    "                                  out_sz=3).to(device)"
   ]
  },
  {
   "cell_type": "code",
   "execution_count": 24,
   "id": "fa715620",
   "metadata": {},
   "outputs": [
    {
     "data": {
      "text/plain": [
       "torch.Size([64, 3])"
      ]
     },
     "execution_count": 24,
     "metadata": {},
     "output_type": "execute_result"
    }
   ],
   "source": [
    "integrate_model(*x).shape"
   ]
  },
  {
   "cell_type": "code",
   "execution_count": 25,
   "id": "47edd059",
   "metadata": {},
   "outputs": [
    {
     "data": {
      "text/plain": [
       "1    3360\n",
       "2    1001\n",
       "3     674\n",
       "Name: FIRE_ALARM, dtype: int64"
      ]
     },
     "execution_count": 25,
     "metadata": {},
     "output_type": "execute_result"
    }
   ],
   "source": [
    "train_df['FIRE_ALARM'].value_counts()"
   ]
  },
  {
   "cell_type": "code",
   "execution_count": 26,
   "id": "1a8e666d",
   "metadata": {},
   "outputs": [],
   "source": [
    "weights = [1 - (train_df['FIRE_ALARM'].value_counts()[1]/len(train_df)), 1 - (train_df['FIRE_ALARM'].value_counts()[2]/len(train_df)), 1 - (train_df['FIRE_ALARM'].value_counts()[3]/len(train_df))]"
   ]
  },
  {
   "cell_type": "code",
   "execution_count": 27,
   "id": "4e15f994",
   "metadata": {},
   "outputs": [],
   "source": [
    "#weights = [1/(1-train_df[\"FIRE_ALARM\"].mean()), 1/(1-train_df[\"FIRE_ALARM\"].mean()), 1/(1-train_df[\"FIRE_ALARM\"].mean())]\n",
    "loss_func = CrossEntropyFlat(weight=torch.FloatTensor(weights).to(device), ignore_index = 2)"
   ]
  },
  {
   "cell_type": "code",
   "execution_count": 28,
   "id": "c17a216e",
   "metadata": {},
   "outputs": [
    {
     "data": {
      "text/plain": [
       "[0.33267130089374375, 0.8011916583912612, 0.8661370407149951]"
      ]
     },
     "execution_count": 28,
     "metadata": {},
     "output_type": "execute_result"
    }
   ],
   "source": [
    "weights"
   ]
  },
  {
   "cell_type": "code",
   "execution_count": 29,
   "id": "ab646a25",
   "metadata": {},
   "outputs": [],
   "source": [
    "learn = Learner(db, integrate_model, metrics=[accuracy], loss_func=loss_func)"
   ]
  },
  {
   "cell_type": "code",
   "execution_count": 30,
   "id": "24ea4fb7",
   "metadata": {},
   "outputs": [],
   "source": [
    "learn.layer_groups = [nn.Sequential(*flatten_model(cnn_learn.layer_groups[0])),\n",
    "                      nn.Sequential(*flatten_model(cnn_learn.layer_groups[1])),\n",
    "                      nn.Sequential(*(flatten_model(cnn_learn.layer_groups[2]) +\n",
    "                                      flatten_model(integrate_model.tabular_model) +\n",
    "                                      flatten_model(integrate_model.layers)))]"
   ]
  },
  {
   "cell_type": "code",
   "execution_count": 31,
   "id": "e5d28762",
   "metadata": {},
   "outputs": [
    {
     "data": {
      "text/html": [
       "\n",
       "<style>\n",
       "    /* Turns off some styling */\n",
       "    progress {\n",
       "        /* gets rid of default border in Firefox and Opera. */\n",
       "        border: none;\n",
       "        /* Needs to be in here for Safari polyfill so background images work as expected. */\n",
       "        background-size: auto;\n",
       "    }\n",
       "    progress:not([value]), progress:not([value])::-webkit-progress-bar {\n",
       "        background: repeating-linear-gradient(45deg, #7e7e7e, #7e7e7e 10px, #5c5c5c 10px, #5c5c5c 20px);\n",
       "    }\n",
       "    .progress-bar-interrupted, .progress-bar-interrupted::-webkit-progress-bar {\n",
       "        background: #F44336;\n",
       "    }\n",
       "</style>\n"
      ],
      "text/plain": [
       "<IPython.core.display.HTML object>"
      ]
     },
     "metadata": {},
     "output_type": "display_data"
    },
    {
     "data": {
      "text/html": [
       "\n",
       "    <div>\n",
       "      <progress value='1' class='' max='2' style='width:300px; height:20px; vertical-align: middle;'></progress>\n",
       "      50.00% [1/2 02:39&lt;02:39]\n",
       "    </div>\n",
       "    \n",
       "<table border=\"1\" class=\"dataframe\">\n",
       "  <thead>\n",
       "    <tr style=\"text-align: left;\">\n",
       "      <th>epoch</th>\n",
       "      <th>train_loss</th>\n",
       "      <th>valid_loss</th>\n",
       "      <th>accuracy</th>\n",
       "      <th>time</th>\n",
       "    </tr>\n",
       "  </thead>\n",
       "  <tbody>\n",
       "    <tr>\n",
       "      <td>0</td>\n",
       "      <td>1.227457</td>\n",
       "      <td>#na#</td>\n",
       "      <td>02:39</td>\n",
       "    </tr>\n",
       "  </tbody>\n",
       "</table><p>\n",
       "\n",
       "    <div>\n",
       "      <progress value='33' class='' max='62' style='width:300px; height:20px; vertical-align: middle;'></progress>\n",
       "      53.23% [33/62 01:32&lt;01:20 1.6431]\n",
       "    </div>\n",
       "    "
      ],
      "text/plain": [
       "<IPython.core.display.HTML object>"
      ]
     },
     "metadata": {},
     "output_type": "display_data"
    },
    {
     "name": "stdout",
     "output_type": "stream",
     "text": [
      "LR Finder is complete, type {learner_name}.recorder.plot() to see the graph.\n"
     ]
    },
    {
     "data": {
      "image/png": "[encoded data removed]",
      "text/plain": [
       "<Figure size 640x480 with 1 Axes>"
      ]
     },
     "metadata": {},
     "output_type": "display_data"
    }
   ],
   "source": [
    "learn.freeze()\n",
    "learn.lr_find()\n",
    "learn.recorder.plot()"
   ]
  },
  {
   "cell_type": "code",
   "execution_count": 32,
   "id": "438fabab",
   "metadata": {},
   "outputs": [
    {
     "data": {
      "text/html": [
       "\n",
       "<style>\n",
       "    /* Turns off some styling */\n",
       "    progress {\n",
       "        /* gets rid of default border in Firefox and Opera. */\n",
       "        border: none;\n",
       "        /* Needs to be in here for Safari polyfill so background images work as expected. */\n",
       "        background-size: auto;\n",
       "    }\n",
       "    progress:not([value]), progress:not([value])::-webkit-progress-bar {\n",
       "        background: repeating-linear-gradient(45deg, #7e7e7e, #7e7e7e 10px, #5c5c5c 10px, #5c5c5c 20px);\n",
       "    }\n",
       "    .progress-bar-interrupted, .progress-bar-interrupted::-webkit-progress-bar {\n",
       "        background: #F44336;\n",
       "    }\n",
       "</style>\n"
      ],
      "text/plain": [
       "<IPython.core.display.HTML object>"
      ]
     },
     "metadata": {},
     "output_type": "display_data"
    },
    {
     "data": {
      "text/html": [
       "<table border=\"1\" class=\"dataframe\">\n",
       "  <thead>\n",
       "    <tr style=\"text-align: left;\">\n",
       "      <th>epoch</th>\n",
       "      <th>train_loss</th>\n",
       "      <th>valid_loss</th>\n",
       "      <th>accuracy</th>\n",
       "      <th>time</th>\n",
       "    </tr>\n",
       "  </thead>\n",
       "  <tbody>\n",
       "    <tr>\n",
       "      <td>0</td>\n",
       "      <td>0.633514</td>\n",
       "      <td>0.239623</td>\n",
       "      <td>0.805362</td>\n",
       "      <td>04:44</td>\n",
       "    </tr>\n",
       "    <tr>\n",
       "      <td>1</td>\n",
       "      <td>0.368459</td>\n",
       "      <td>0.342099</td>\n",
       "      <td>0.748759</td>\n",
       "      <td>04:53</td>\n",
       "    </tr>\n",
       "    <tr>\n",
       "      <td>2</td>\n",
       "      <td>0.355753</td>\n",
       "      <td>0.252616</td>\n",
       "      <td>0.792453</td>\n",
       "      <td>04:47</td>\n",
       "    </tr>\n",
       "    <tr>\n",
       "      <td>3</td>\n",
       "      <td>0.324536</td>\n",
       "      <td>0.229718</td>\n",
       "      <td>0.809335</td>\n",
       "      <td>04:42</td>\n",
       "    </tr>\n",
       "    <tr>\n",
       "      <td>4</td>\n",
       "      <td>0.300832</td>\n",
       "      <td>0.180283</td>\n",
       "      <td>0.782522</td>\n",
       "      <td>04:39</td>\n",
       "    </tr>\n",
       "    <tr>\n",
       "      <td>5</td>\n",
       "      <td>0.293647</td>\n",
       "      <td>0.137976</td>\n",
       "      <td>0.827210</td>\n",
       "      <td>04:42</td>\n",
       "    </tr>\n",
       "    <tr>\n",
       "      <td>6</td>\n",
       "      <td>0.281771</td>\n",
       "      <td>0.156074</td>\n",
       "      <td>0.831182</td>\n",
       "      <td>04:40</td>\n",
       "    </tr>\n",
       "    <tr>\n",
       "      <td>7</td>\n",
       "      <td>0.254798</td>\n",
       "      <td>0.125141</td>\n",
       "      <td>0.841112</td>\n",
       "      <td>04:46</td>\n",
       "    </tr>\n",
       "    <tr>\n",
       "      <td>8</td>\n",
       "      <td>0.224968</td>\n",
       "      <td>0.119378</td>\n",
       "      <td>0.824230</td>\n",
       "      <td>04:09</td>\n",
       "    </tr>\n",
       "    <tr>\n",
       "      <td>9</td>\n",
       "      <td>0.209430</td>\n",
       "      <td>0.107622</td>\n",
       "      <td>0.838133</td>\n",
       "      <td>03:08</td>\n",
       "    </tr>\n",
       "  </tbody>\n",
       "</table>"
      ],
      "text/plain": [
       "<IPython.core.display.HTML object>"
      ]
     },
     "metadata": {},
     "output_type": "display_data"
    }
   ],
   "source": [
    "learn.fit_one_cycle(10, 1e-1)"
   ]
  },
  {
   "cell_type": "code",
   "execution_count": 33,
   "id": "d183ab83",
   "metadata": {},
   "outputs": [
    {
     "data": {
      "text/html": [
       "\n",
       "<style>\n",
       "    /* Turns off some styling */\n",
       "    progress {\n",
       "        /* gets rid of default border in Firefox and Opera. */\n",
       "        border: none;\n",
       "        /* Needs to be in here for Safari polyfill so background images work as expected. */\n",
       "        background-size: auto;\n",
       "    }\n",
       "    progress:not([value]), progress:not([value])::-webkit-progress-bar {\n",
       "        background: repeating-linear-gradient(45deg, #7e7e7e, #7e7e7e 10px, #5c5c5c 10px, #5c5c5c 20px);\n",
       "    }\n",
       "    .progress-bar-interrupted, .progress-bar-interrupted::-webkit-progress-bar {\n",
       "        background: #F44336;\n",
       "    }\n",
       "</style>\n"
      ],
      "text/plain": [
       "<IPython.core.display.HTML object>"
      ]
     },
     "metadata": {},
     "output_type": "display_data"
    },
    {
     "data": {
      "text/html": [
       "<table border=\"1\" class=\"dataframe\">\n",
       "  <thead>\n",
       "    <tr style=\"text-align: left;\">\n",
       "      <th>epoch</th>\n",
       "      <th>train_loss</th>\n",
       "      <th>valid_loss</th>\n",
       "      <th>accuracy</th>\n",
       "      <th>time</th>\n",
       "    </tr>\n",
       "  </thead>\n",
       "  <tbody>\n",
       "    <tr>\n",
       "      <td>0</td>\n",
       "      <td>0.237650</td>\n",
       "      <td>0.116055</td>\n",
       "      <td>0.836147</td>\n",
       "      <td>03:55</td>\n",
       "    </tr>\n",
       "    <tr>\n",
       "      <td>1</td>\n",
       "      <td>0.306439</td>\n",
       "      <td>0.240748</td>\n",
       "      <td>0.765640</td>\n",
       "      <td>03:41</td>\n",
       "    </tr>\n",
       "    <tr>\n",
       "      <td>2</td>\n",
       "      <td>0.290166</td>\n",
       "      <td>0.180310</td>\n",
       "      <td>0.825223</td>\n",
       "      <td>03:45</td>\n",
       "    </tr>\n",
       "    <tr>\n",
       "      <td>3</td>\n",
       "      <td>0.248087</td>\n",
       "      <td>0.119797</td>\n",
       "      <td>0.833168</td>\n",
       "      <td>03:38</td>\n",
       "    </tr>\n",
       "    <tr>\n",
       "      <td>4</td>\n",
       "      <td>0.219267</td>\n",
       "      <td>0.117664</td>\n",
       "      <td>0.813307</td>\n",
       "      <td>03:41</td>\n",
       "    </tr>\n",
       "  </tbody>\n",
       "</table>"
      ],
      "text/plain": [
       "<IPython.core.display.HTML object>"
      ]
     },
     "metadata": {},
     "output_type": "display_data"
    }
   ],
   "source": [
    "learn.unfreeze()\n",
    "learn.fit_one_cycle(5, slice(1e-5, 1e-1))"
   ]
  },
  {
   "cell_type": "code",
   "execution_count": 34,
   "id": "f1fa8075",
   "metadata": {},
   "outputs": [
    {
     "data": {
      "text/html": [
       "\n",
       "<style>\n",
       "    /* Turns off some styling */\n",
       "    progress {\n",
       "        /* gets rid of default border in Firefox and Opera. */\n",
       "        border: none;\n",
       "        /* Needs to be in here for Safari polyfill so background images work as expected. */\n",
       "        background-size: auto;\n",
       "    }\n",
       "    progress:not([value]), progress:not([value])::-webkit-progress-bar {\n",
       "        background: repeating-linear-gradient(45deg, #7e7e7e, #7e7e7e 10px, #5c5c5c 10px, #5c5c5c 20px);\n",
       "    }\n",
       "    .progress-bar-interrupted, .progress-bar-interrupted::-webkit-progress-bar {\n",
       "        background: #F44336;\n",
       "    }\n",
       "</style>\n"
      ],
      "text/plain": [
       "<IPython.core.display.HTML object>"
      ]
     },
     "metadata": {},
     "output_type": "display_data"
    },
    {
     "data": {
      "text/html": [],
      "text/plain": [
       "<IPython.core.display.HTML object>"
      ]
     },
     "metadata": {},
     "output_type": "display_data"
    }
   ],
   "source": [
    "preds, y = learn.get_preds(DatasetType.Test)"
   ]
  },
  {
   "cell_type": "code",
   "execution_count": 35,
   "id": "16b401c1",
   "metadata": {},
   "outputs": [
    {
     "data": {
      "text/plain": [
       "tensor([[9.0395e-01, 9.5999e-02, 4.9490e-05],\n",
       "        [3.4686e-02, 9.6531e-01, 8.7990e-06],\n",
       "        [9.9905e-01, 9.4528e-04, 1.0848e-07],\n",
       "        ...,\n",
       "        [9.9837e-01, 1.6276e-03, 2.8106e-07],\n",
       "        [9.9412e-01, 5.8739e-03, 2.0277e-06],\n",
       "        [1.2545e-07, 1.0000e+00, 1.8132e-19]])"
      ]
     },
     "execution_count": 35,
     "metadata": {},
     "output_type": "execute_result"
    }
   ],
   "source": [
    "preds"
   ]
  },
  {
   "cell_type": "code",
   "execution_count": 36,
   "id": "cd883ba5",
   "metadata": {},
   "outputs": [],
   "source": [
    "learn.save(\"CNN_hypertuned\")"
   ]
  },
  {
   "cell_type": "code",
   "execution_count": 37,
   "id": "2053bf57",
   "metadata": {},
   "outputs": [],
   "source": [
    "import torch\n",
    "a = preds.tolist()\n",
    "# b = preds1.tolist()"
   ]
  },
  {
   "cell_type": "code",
   "execution_count": 38,
   "id": "95cf74a2",
   "metadata": {},
   "outputs": [],
   "source": [
    " df = pd.DataFrame(a)\n",
    "# df1 =pd.DataFrame(b)"
   ]
  },
  {
   "cell_type": "code",
   "execution_count": 39,
   "id": "ad016a83",
   "metadata": {},
   "outputs": [],
   "source": [
    "df.to_csv('y_preds_hy_3.csv')\n",
    "# df1.to_csv('preds1_multiclass_hy.csv') "
   ]
  },
  {
   "cell_type": "code",
   "execution_count": null,
   "id": "507f40b5",
   "metadata": {},
   "outputs": [],
   "source": []
  }
 ],
 "metadata": {
  "kernelspec": {
   "display_name": "Python 3 (ipykernel)",
   "language": "python",
   "name": "python3"
  },
  "language_info": {
   "codemirror_mode": {
    "name": "ipython",
    "version": 3
   },
   "file_extension": ".py",
   "mimetype": "text/x-python",
   "name": "python",
   "nbconvert_exporter": "python",
   "pygments_lexer": "ipython3",
   "version": "3.8.16"
  }
 },
 "nbformat": 4,
 "nbformat_minor": 5
}
